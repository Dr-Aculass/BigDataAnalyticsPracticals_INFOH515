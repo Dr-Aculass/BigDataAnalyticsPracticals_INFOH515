{
 "cells": [
  {
   "cell_type": "markdown",
   "metadata": {},
   "source": [
    "# [INFO-H515 - Big Data Scalable Analytics](http://uv.ulb.ac.be/course/view.php?id=74317?username=guest)\n",
    "\n",
    "\n",
    "## TP 2 - Linear Regression with Map Reduce\n",
    "\n",
    "#### *Yann-Aël Le Borgne, Jacopo De Stefani and Gianluca Bontempi*\n",
    "\n",
    "####  25/04/2018"
   ]
  },
  {
   "cell_type": "markdown",
   "metadata": {},
   "source": [
    "This class aims at implementing from scratch map-reduce solutions to linear regression problems. Linear regression consists in approximating an output (response) variable $y$ by a linear combination of a set of inputs (dependent variables) $x_i$.\n",
    "\n",
    "![](./img/ExampleLinReg.png)\n",
    "\n",
    "The two main approaches to solve linear regression problems are the Ordinary Least Squares (OLS), and the Gradient Descent (GD). \n",
    "\n",
    "### Class objectives:\n",
    "\n",
    "* Review the solving of a linear regression problem using the standard ML sklearn Python toolbox\n",
    "* Review the ordinary least square (OLS) solution. Implement it from scratch using numpy\n",
    "* Implement the Map/Reduce OLS solution using Spark\n",
    "* Review the Gradient Descent (GD) solution. Implement it from scratch using numpy\n",
    "* Implement the Map/Reduce GD solution using Spark\n",
    "* Solve the problem using Spark ML library - LinearRegression, and its OLS and gradient descent implementations\n",
    "* Interpret Spark optimisation plan and algorithm distribution in the Spark user interface\n",
    "\n"
   ]
  },
  {
   "cell_type": "markdown",
   "metadata": {},
   "source": [
    "# Linear regression - Background theory\n",
    "\n",
    "* Linear regression is a widely used method in predictive analytics.\n",
    "* It consists in approximating an output by a weighted sum of the inputs, in such a way that the mean square error between the predicted and true outputs is minimized.\n",
    "\n",
    "### Notations\n",
    "* Let $(x_i,y_i)$, $1 \\le i \\le N$, be a set of $N$ observations, with $x_i \\in \\mathbb{R}^n$ and $y_i \\in \\mathbb{R}$. $x_i$ are the inputs, and $y_i$ the outputs.\n",
    "* Let $X$ be the matrix of inputs with rows $x_i$, of size $N \\times n$ ($N$ observations, (rows) and $n$ features (columns)). \n",
    "* Let $Y \\in \\mathbb{R}^N$ be the vector of outputs $y_i$.\n",
    "* Let $\\theta \\in \\mathbb{R}^n$ be the parameters of a linear model $\\hat{y_i}=\\theta x_i^T$.\n",
    "* Let $L(y_i, \\hat{y}_i)=\\frac{1}{2}(y_i-\\hat{y}_i)^2$ be the mean squared loss function.\n",
    "\n"
   ]
  },
  {
   "cell_type": "markdown",
   "metadata": {},
   "source": [
    "\n",
    "### Solutions to the regression problems\n",
    "\n",
    "#### Ordinary least squares\n",
    "\n",
    "[It can be shown](https://theclevermachine.wordpress.com/2012/09/01/derivation-of-ols-normal-equations/) that the set of parameters $\\hat{\\theta}$ which minimize the loss function $L$ over the whole set of observations $(X,Y)$ is given by\n",
    "\n",
    "$$\n",
    "\\hat{\\theta}^T = (X^T X)^{-1} (X^T Y)\n",
    "$$\n",
    "\n",
    "This is the **Ordinary Least Square** solution, which is the closed form solution.\n",
    "\n",
    "#### Gradient descent \n",
    "\n",
    "The closed form solution (OLS) requires a matrix inversion, which is not possible if $X^T X$ is singular (which happens if $n>N$ or if a feature is a linear combination of others). An alternative to the OLS method is the  Gradient Descent (GD) method. The linear regression weights are first drawn at random. They are then iteratively updated by summing and averaging the gradients for all $x_i$ in $X$.    \n",
    "\n",
    "``` \n",
    "GD(X,Y,T,η)\n",
    "N ← nrow(X)\n",
    "theta_0 ← random initialization\n",
    "for t = 1 to T do\n",
    "    sum_gradient=0\n",
    "    for i = 1 to N\n",
    "        sum_gradient=sum_gradient − ηL'(x_i,y_i)\n",
    "    end_for\n",
    "    theta_t ← theta_(t−1)+sum_gradient/N\n",
    "end_for\n",
    "return theta_t\n",
    "``` \n",
    "$L'$ (L' in the pseudo-code) is the derivative of the loss function $L$. For the squared loss, we have $L'(y_i, \\hat{y}_i)=(x_i \\theta^T-y_i)x_i$.\n",
    "\n",
    "Note that the GD approach requires two hyperparameters: The number of iteration $T$, and the learning rate $η$, which controls how 'fast' the linear weights are updated. Tuning $T$ and $η$ to efficiently solve the problem is in practice often difficult. "
   ]
  },
  {
   "cell_type": "markdown",
   "metadata": {},
   "source": [
    "### Map/Reduce\n",
    "\n",
    "If X and Y do not fit in memory, Map/Reduce can be used to solve the linear regression problem in a distributed way. Two cases can be distinguished:\n",
    "\n",
    "* ** $N$ large and $n$ 'small' ** : $X^TX$ and $X^TY$ are of size $n \\times n$ and $n \\times 1$, respectively, and can be assumed to be 'small' enough to fit in the memory of a single machine. Only the matrix products $X^TX$ and $X^TY$ are computed with Map/Reduce in a distributed way. The matrix inversion $(X^TX)^{-1}$ and resulting product $\\hat{\\theta}^T = (X^T X)^{-1} (X^T Y)$ are then computed on a single machine (no need to use Gradient Descent).\n",
    "\n",
    "* ** $n$ 'large' ** : The matrix product $X^TX$ has size $n^2$ which can become too large to fit on a single machine. The risk that $X^TX$ is singular and that the inverse cannot be computed is also increased. In that case, Gradient Descent must be used, and can be combined with Map/Reduce.\n",
    "\n"
   ]
  },
  {
   "cell_type": "markdown",
   "metadata": {},
   "source": [
    "# General imports"
   ]
  },
  {
   "cell_type": "code",
   "execution_count": 1,
   "metadata": {},
   "outputs": [],
   "source": [
    "import time\n",
    "import os \n",
    "import numpy as np\n",
    "\n",
    "%matplotlib notebook  \n",
    "import matplotlib as mpl\n",
    "import matplotlib.pyplot as plt\n",
    "from mpl_toolkits.mplot3d import Axes3D\n"
   ]
  },
  {
   "cell_type": "markdown",
   "metadata": {},
   "source": [
    "We will be using mostly numpy and Spark RDD libraries. For reference, you can look up the details of the relevant Spark methods in [Spark's Python API](https://spark.apache.org/docs/latest/api/python/pyspark.html#pyspark.RDD) and the relevant [NumPy](https://docs.scipy.org/doc/numpy/reference/index.html) methods in the NumPy Reference."
   ]
  },
  {
   "cell_type": "markdown",
   "metadata": {},
   "source": [
    "# 1) Dataset generation\n",
    "\n",
    "Let us first generate an artificial dataset of $N$ observations where the output $y$ is a linear combination of $n$ inputs plus gaussian noise."
   ]
  },
  {
   "cell_type": "code",
   "execution_count": 2,
   "metadata": {},
   "outputs": [],
   "source": [
    "def genData(N,n,random_seed):\n",
    "    \n",
    "    start = time.time()\n",
    "\n",
    "    np.random.seed(0)   \n",
    "\n",
    "    #Inputs and the weights of the linear combination are drawn at random\n",
    "    X=np.random.rand(N,n)\n",
    "    theta=np.random.rand(n)\n",
    "    #noise=np.random.rand(N)\n",
    "\n",
    "    Y=np.dot(X,theta)#+noise\n",
    "    Y=Y[:,np.newaxis]\n",
    "    Z=np.concatenate((X,Y),axis=1)\n",
    "\n",
    "    print(\"Number of observations :\",N)\n",
    "    print(\"Number of features :\",n)\n",
    "\n",
    "    print(\"Dimension of X :\",X.shape)\n",
    "    print(\"Dimension of theta :\",theta.shape)\n",
    "    print(\"Dimension of Y :\",Y.shape)\n",
    "\n",
    "    end = time.time()\n",
    "    print(\"Time to create artificial data: \",round(end - start,2),\"seconds\")\n",
    "    \n",
    "    return (X,Y,Z,theta)"
   ]
  },
  {
   "cell_type": "code",
   "execution_count": 3,
   "metadata": {
    "scrolled": true
   },
   "outputs": [
    {
     "name": "stdout",
     "output_type": "stream",
     "text": [
      "Number of observations : 100\n",
      "Number of features : 2\n",
      "Dimension of X : (100, 2)\n",
      "Dimension of theta : (2,)\n",
      "Dimension of Y : (100, 1)\n",
      "Time to create artificial data:  0.0 seconds\n"
     ]
    }
   ],
   "source": [
    "#Let us generate the dataset\n",
    "N=100\n",
    "n=2\n",
    "(X,Y,Z,theta)=genData(N,n,0)"
   ]
  },
  {
   "cell_type": "markdown",
   "metadata": {},
   "source": [
    "The shape() function returns the dimension of a vector or matrix, in (i, j) notation, or (observations, features). For instance:\n",
    "* theta is a simple vector with two elements: i=2, j=0. \n",
    "* X, on the other hand, is a matrix: it has 100 vectors/observations each containing 2 elements/features."
   ]
  },
  {
   "cell_type": "code",
   "execution_count": 4,
   "metadata": {},
   "outputs": [
    {
     "data": {
      "application/javascript": [
       "/* Put everything inside the global mpl namespace */\n",
       "window.mpl = {};\n",
       "\n",
       "\n",
       "mpl.get_websocket_type = function() {\n",
       "    if (typeof(WebSocket) !== 'undefined') {\n",
       "        return WebSocket;\n",
       "    } else if (typeof(MozWebSocket) !== 'undefined') {\n",
       "        return MozWebSocket;\n",
       "    } else {\n",
       "        alert('Your browser does not have WebSocket support.' +\n",
       "              'Please try Chrome, Safari or Firefox ≥ 6. ' +\n",
       "              'Firefox 4 and 5 are also supported but you ' +\n",
       "              'have to enable WebSockets in about:config.');\n",
       "    };\n",
       "}\n",
       "\n",
       "mpl.figure = function(figure_id, websocket, ondownload, parent_element) {\n",
       "    this.id = figure_id;\n",
       "\n",
       "    this.ws = websocket;\n",
       "\n",
       "    this.supports_binary = (this.ws.binaryType != undefined);\n",
       "\n",
       "    if (!this.supports_binary) {\n",
       "        var warnings = document.getElementById(\"mpl-warnings\");\n",
       "        if (warnings) {\n",
       "            warnings.style.display = 'block';\n",
       "            warnings.textContent = (\n",
       "                \"This browser does not support binary websocket messages. \" +\n",
       "                    \"Performance may be slow.\");\n",
       "        }\n",
       "    }\n",
       "\n",
       "    this.imageObj = new Image();\n",
       "\n",
       "    this.context = undefined;\n",
       "    this.message = undefined;\n",
       "    this.canvas = undefined;\n",
       "    this.rubberband_canvas = undefined;\n",
       "    this.rubberband_context = undefined;\n",
       "    this.format_dropdown = undefined;\n",
       "\n",
       "    this.image_mode = 'full';\n",
       "\n",
       "    this.root = $('<div/>');\n",
       "    this._root_extra_style(this.root)\n",
       "    this.root.attr('style', 'display: inline-block');\n",
       "\n",
       "    $(parent_element).append(this.root);\n",
       "\n",
       "    this._init_header(this);\n",
       "    this._init_canvas(this);\n",
       "    this._init_toolbar(this);\n",
       "\n",
       "    var fig = this;\n",
       "\n",
       "    this.waiting = false;\n",
       "\n",
       "    this.ws.onopen =  function () {\n",
       "            fig.send_message(\"supports_binary\", {value: fig.supports_binary});\n",
       "            fig.send_message(\"send_image_mode\", {});\n",
       "            if (mpl.ratio != 1) {\n",
       "                fig.send_message(\"set_dpi_ratio\", {'dpi_ratio': mpl.ratio});\n",
       "            }\n",
       "            fig.send_message(\"refresh\", {});\n",
       "        }\n",
       "\n",
       "    this.imageObj.onload = function() {\n",
       "            if (fig.image_mode == 'full') {\n",
       "                // Full images could contain transparency (where diff images\n",
       "                // almost always do), so we need to clear the canvas so that\n",
       "                // there is no ghosting.\n",
       "                fig.context.clearRect(0, 0, fig.canvas.width, fig.canvas.height);\n",
       "            }\n",
       "            fig.context.drawImage(fig.imageObj, 0, 0);\n",
       "        };\n",
       "\n",
       "    this.imageObj.onunload = function() {\n",
       "        fig.ws.close();\n",
       "    }\n",
       "\n",
       "    this.ws.onmessage = this._make_on_message_function(this);\n",
       "\n",
       "    this.ondownload = ondownload;\n",
       "}\n",
       "\n",
       "mpl.figure.prototype._init_header = function() {\n",
       "    var titlebar = $(\n",
       "        '<div class=\"ui-dialog-titlebar ui-widget-header ui-corner-all ' +\n",
       "        'ui-helper-clearfix\"/>');\n",
       "    var titletext = $(\n",
       "        '<div class=\"ui-dialog-title\" style=\"width: 100%; ' +\n",
       "        'text-align: center; padding: 3px;\"/>');\n",
       "    titlebar.append(titletext)\n",
       "    this.root.append(titlebar);\n",
       "    this.header = titletext[0];\n",
       "}\n",
       "\n",
       "\n",
       "\n",
       "mpl.figure.prototype._canvas_extra_style = function(canvas_div) {\n",
       "\n",
       "}\n",
       "\n",
       "\n",
       "mpl.figure.prototype._root_extra_style = function(canvas_div) {\n",
       "\n",
       "}\n",
       "\n",
       "mpl.figure.prototype._init_canvas = function() {\n",
       "    var fig = this;\n",
       "\n",
       "    var canvas_div = $('<div/>');\n",
       "\n",
       "    canvas_div.attr('style', 'position: relative; clear: both; outline: 0');\n",
       "\n",
       "    function canvas_keyboard_event(event) {\n",
       "        return fig.key_event(event, event['data']);\n",
       "    }\n",
       "\n",
       "    canvas_div.keydown('key_press', canvas_keyboard_event);\n",
       "    canvas_div.keyup('key_release', canvas_keyboard_event);\n",
       "    this.canvas_div = canvas_div\n",
       "    this._canvas_extra_style(canvas_div)\n",
       "    this.root.append(canvas_div);\n",
       "\n",
       "    var canvas = $('<canvas/>');\n",
       "    canvas.addClass('mpl-canvas');\n",
       "    canvas.attr('style', \"left: 0; top: 0; z-index: 0; outline: 0\")\n",
       "\n",
       "    this.canvas = canvas[0];\n",
       "    this.context = canvas[0].getContext(\"2d\");\n",
       "\n",
       "    var backingStore = this.context.backingStorePixelRatio ||\n",
       "\tthis.context.webkitBackingStorePixelRatio ||\n",
       "\tthis.context.mozBackingStorePixelRatio ||\n",
       "\tthis.context.msBackingStorePixelRatio ||\n",
       "\tthis.context.oBackingStorePixelRatio ||\n",
       "\tthis.context.backingStorePixelRatio || 1;\n",
       "\n",
       "    mpl.ratio = (window.devicePixelRatio || 1) / backingStore;\n",
       "\n",
       "    var rubberband = $('<canvas/>');\n",
       "    rubberband.attr('style', \"position: absolute; left: 0; top: 0; z-index: 1;\")\n",
       "\n",
       "    var pass_mouse_events = true;\n",
       "\n",
       "    canvas_div.resizable({\n",
       "        start: function(event, ui) {\n",
       "            pass_mouse_events = false;\n",
       "        },\n",
       "        resize: function(event, ui) {\n",
       "            fig.request_resize(ui.size.width, ui.size.height);\n",
       "        },\n",
       "        stop: function(event, ui) {\n",
       "            pass_mouse_events = true;\n",
       "            fig.request_resize(ui.size.width, ui.size.height);\n",
       "        },\n",
       "    });\n",
       "\n",
       "    function mouse_event_fn(event) {\n",
       "        if (pass_mouse_events)\n",
       "            return fig.mouse_event(event, event['data']);\n",
       "    }\n",
       "\n",
       "    rubberband.mousedown('button_press', mouse_event_fn);\n",
       "    rubberband.mouseup('button_release', mouse_event_fn);\n",
       "    // Throttle sequential mouse events to 1 every 20ms.\n",
       "    rubberband.mousemove('motion_notify', mouse_event_fn);\n",
       "\n",
       "    rubberband.mouseenter('figure_enter', mouse_event_fn);\n",
       "    rubberband.mouseleave('figure_leave', mouse_event_fn);\n",
       "\n",
       "    canvas_div.on(\"wheel\", function (event) {\n",
       "        event = event.originalEvent;\n",
       "        event['data'] = 'scroll'\n",
       "        if (event.deltaY < 0) {\n",
       "            event.step = 1;\n",
       "        } else {\n",
       "            event.step = -1;\n",
       "        }\n",
       "        mouse_event_fn(event);\n",
       "    });\n",
       "\n",
       "    canvas_div.append(canvas);\n",
       "    canvas_div.append(rubberband);\n",
       "\n",
       "    this.rubberband = rubberband;\n",
       "    this.rubberband_canvas = rubberband[0];\n",
       "    this.rubberband_context = rubberband[0].getContext(\"2d\");\n",
       "    this.rubberband_context.strokeStyle = \"#000000\";\n",
       "\n",
       "    this._resize_canvas = function(width, height) {\n",
       "        // Keep the size of the canvas, canvas container, and rubber band\n",
       "        // canvas in synch.\n",
       "        canvas_div.css('width', width)\n",
       "        canvas_div.css('height', height)\n",
       "\n",
       "        canvas.attr('width', width * mpl.ratio);\n",
       "        canvas.attr('height', height * mpl.ratio);\n",
       "        canvas.attr('style', 'width: ' + width + 'px; height: ' + height + 'px;');\n",
       "\n",
       "        rubberband.attr('width', width);\n",
       "        rubberband.attr('height', height);\n",
       "    }\n",
       "\n",
       "    // Set the figure to an initial 600x600px, this will subsequently be updated\n",
       "    // upon first draw.\n",
       "    this._resize_canvas(600, 600);\n",
       "\n",
       "    // Disable right mouse context menu.\n",
       "    $(this.rubberband_canvas).bind(\"contextmenu\",function(e){\n",
       "        return false;\n",
       "    });\n",
       "\n",
       "    function set_focus () {\n",
       "        canvas.focus();\n",
       "        canvas_div.focus();\n",
       "    }\n",
       "\n",
       "    window.setTimeout(set_focus, 100);\n",
       "}\n",
       "\n",
       "mpl.figure.prototype._init_toolbar = function() {\n",
       "    var fig = this;\n",
       "\n",
       "    var nav_element = $('<div/>')\n",
       "    nav_element.attr('style', 'width: 100%');\n",
       "    this.root.append(nav_element);\n",
       "\n",
       "    // Define a callback function for later on.\n",
       "    function toolbar_event(event) {\n",
       "        return fig.toolbar_button_onclick(event['data']);\n",
       "    }\n",
       "    function toolbar_mouse_event(event) {\n",
       "        return fig.toolbar_button_onmouseover(event['data']);\n",
       "    }\n",
       "\n",
       "    for(var toolbar_ind in mpl.toolbar_items) {\n",
       "        var name = mpl.toolbar_items[toolbar_ind][0];\n",
       "        var tooltip = mpl.toolbar_items[toolbar_ind][1];\n",
       "        var image = mpl.toolbar_items[toolbar_ind][2];\n",
       "        var method_name = mpl.toolbar_items[toolbar_ind][3];\n",
       "\n",
       "        if (!name) {\n",
       "            // put a spacer in here.\n",
       "            continue;\n",
       "        }\n",
       "        var button = $('<button/>');\n",
       "        button.addClass('ui-button ui-widget ui-state-default ui-corner-all ' +\n",
       "                        'ui-button-icon-only');\n",
       "        button.attr('role', 'button');\n",
       "        button.attr('aria-disabled', 'false');\n",
       "        button.click(method_name, toolbar_event);\n",
       "        button.mouseover(tooltip, toolbar_mouse_event);\n",
       "\n",
       "        var icon_img = $('<span/>');\n",
       "        icon_img.addClass('ui-button-icon-primary ui-icon');\n",
       "        icon_img.addClass(image);\n",
       "        icon_img.addClass('ui-corner-all');\n",
       "\n",
       "        var tooltip_span = $('<span/>');\n",
       "        tooltip_span.addClass('ui-button-text');\n",
       "        tooltip_span.html(tooltip);\n",
       "\n",
       "        button.append(icon_img);\n",
       "        button.append(tooltip_span);\n",
       "\n",
       "        nav_element.append(button);\n",
       "    }\n",
       "\n",
       "    var fmt_picker_span = $('<span/>');\n",
       "\n",
       "    var fmt_picker = $('<select/>');\n",
       "    fmt_picker.addClass('mpl-toolbar-option ui-widget ui-widget-content');\n",
       "    fmt_picker_span.append(fmt_picker);\n",
       "    nav_element.append(fmt_picker_span);\n",
       "    this.format_dropdown = fmt_picker[0];\n",
       "\n",
       "    for (var ind in mpl.extensions) {\n",
       "        var fmt = mpl.extensions[ind];\n",
       "        var option = $(\n",
       "            '<option/>', {selected: fmt === mpl.default_extension}).html(fmt);\n",
       "        fmt_picker.append(option)\n",
       "    }\n",
       "\n",
       "    // Add hover states to the ui-buttons\n",
       "    $( \".ui-button\" ).hover(\n",
       "        function() { $(this).addClass(\"ui-state-hover\");},\n",
       "        function() { $(this).removeClass(\"ui-state-hover\");}\n",
       "    );\n",
       "\n",
       "    var status_bar = $('<span class=\"mpl-message\"/>');\n",
       "    nav_element.append(status_bar);\n",
       "    this.message = status_bar[0];\n",
       "}\n",
       "\n",
       "mpl.figure.prototype.request_resize = function(x_pixels, y_pixels) {\n",
       "    // Request matplotlib to resize the figure. Matplotlib will then trigger a resize in the client,\n",
       "    // which will in turn request a refresh of the image.\n",
       "    this.send_message('resize', {'width': x_pixels, 'height': y_pixels});\n",
       "}\n",
       "\n",
       "mpl.figure.prototype.send_message = function(type, properties) {\n",
       "    properties['type'] = type;\n",
       "    properties['figure_id'] = this.id;\n",
       "    this.ws.send(JSON.stringify(properties));\n",
       "}\n",
       "\n",
       "mpl.figure.prototype.send_draw_message = function() {\n",
       "    if (!this.waiting) {\n",
       "        this.waiting = true;\n",
       "        this.ws.send(JSON.stringify({type: \"draw\", figure_id: this.id}));\n",
       "    }\n",
       "}\n",
       "\n",
       "\n",
       "mpl.figure.prototype.handle_save = function(fig, msg) {\n",
       "    var format_dropdown = fig.format_dropdown;\n",
       "    var format = format_dropdown.options[format_dropdown.selectedIndex].value;\n",
       "    fig.ondownload(fig, format);\n",
       "}\n",
       "\n",
       "\n",
       "mpl.figure.prototype.handle_resize = function(fig, msg) {\n",
       "    var size = msg['size'];\n",
       "    if (size[0] != fig.canvas.width || size[1] != fig.canvas.height) {\n",
       "        fig._resize_canvas(size[0], size[1]);\n",
       "        fig.send_message(\"refresh\", {});\n",
       "    };\n",
       "}\n",
       "\n",
       "mpl.figure.prototype.handle_rubberband = function(fig, msg) {\n",
       "    var x0 = msg['x0'] / mpl.ratio;\n",
       "    var y0 = (fig.canvas.height - msg['y0']) / mpl.ratio;\n",
       "    var x1 = msg['x1'] / mpl.ratio;\n",
       "    var y1 = (fig.canvas.height - msg['y1']) / mpl.ratio;\n",
       "    x0 = Math.floor(x0) + 0.5;\n",
       "    y0 = Math.floor(y0) + 0.5;\n",
       "    x1 = Math.floor(x1) + 0.5;\n",
       "    y1 = Math.floor(y1) + 0.5;\n",
       "    var min_x = Math.min(x0, x1);\n",
       "    var min_y = Math.min(y0, y1);\n",
       "    var width = Math.abs(x1 - x0);\n",
       "    var height = Math.abs(y1 - y0);\n",
       "\n",
       "    fig.rubberband_context.clearRect(\n",
       "        0, 0, fig.canvas.width, fig.canvas.height);\n",
       "\n",
       "    fig.rubberband_context.strokeRect(min_x, min_y, width, height);\n",
       "}\n",
       "\n",
       "mpl.figure.prototype.handle_figure_label = function(fig, msg) {\n",
       "    // Updates the figure title.\n",
       "    fig.header.textContent = msg['label'];\n",
       "}\n",
       "\n",
       "mpl.figure.prototype.handle_cursor = function(fig, msg) {\n",
       "    var cursor = msg['cursor'];\n",
       "    switch(cursor)\n",
       "    {\n",
       "    case 0:\n",
       "        cursor = 'pointer';\n",
       "        break;\n",
       "    case 1:\n",
       "        cursor = 'default';\n",
       "        break;\n",
       "    case 2:\n",
       "        cursor = 'crosshair';\n",
       "        break;\n",
       "    case 3:\n",
       "        cursor = 'move';\n",
       "        break;\n",
       "    }\n",
       "    fig.rubberband_canvas.style.cursor = cursor;\n",
       "}\n",
       "\n",
       "mpl.figure.prototype.handle_message = function(fig, msg) {\n",
       "    fig.message.textContent = msg['message'];\n",
       "}\n",
       "\n",
       "mpl.figure.prototype.handle_draw = function(fig, msg) {\n",
       "    // Request the server to send over a new figure.\n",
       "    fig.send_draw_message();\n",
       "}\n",
       "\n",
       "mpl.figure.prototype.handle_image_mode = function(fig, msg) {\n",
       "    fig.image_mode = msg['mode'];\n",
       "}\n",
       "\n",
       "mpl.figure.prototype.updated_canvas_event = function() {\n",
       "    // Called whenever the canvas gets updated.\n",
       "    this.send_message(\"ack\", {});\n",
       "}\n",
       "\n",
       "// A function to construct a web socket function for onmessage handling.\n",
       "// Called in the figure constructor.\n",
       "mpl.figure.prototype._make_on_message_function = function(fig) {\n",
       "    return function socket_on_message(evt) {\n",
       "        if (evt.data instanceof Blob) {\n",
       "            /* FIXME: We get \"Resource interpreted as Image but\n",
       "             * transferred with MIME type text/plain:\" errors on\n",
       "             * Chrome.  But how to set the MIME type?  It doesn't seem\n",
       "             * to be part of the websocket stream */\n",
       "            evt.data.type = \"image/png\";\n",
       "\n",
       "            /* Free the memory for the previous frames */\n",
       "            if (fig.imageObj.src) {\n",
       "                (window.URL || window.webkitURL).revokeObjectURL(\n",
       "                    fig.imageObj.src);\n",
       "            }\n",
       "\n",
       "            fig.imageObj.src = (window.URL || window.webkitURL).createObjectURL(\n",
       "                evt.data);\n",
       "            fig.updated_canvas_event();\n",
       "            fig.waiting = false;\n",
       "            return;\n",
       "        }\n",
       "        else if (typeof evt.data === 'string' && evt.data.slice(0, 21) == \"data:image/png;base64\") {\n",
       "            fig.imageObj.src = evt.data;\n",
       "            fig.updated_canvas_event();\n",
       "            fig.waiting = false;\n",
       "            return;\n",
       "        }\n",
       "\n",
       "        var msg = JSON.parse(evt.data);\n",
       "        var msg_type = msg['type'];\n",
       "\n",
       "        // Call the  \"handle_{type}\" callback, which takes\n",
       "        // the figure and JSON message as its only arguments.\n",
       "        try {\n",
       "            var callback = fig[\"handle_\" + msg_type];\n",
       "        } catch (e) {\n",
       "            console.log(\"No handler for the '\" + msg_type + \"' message type: \", msg);\n",
       "            return;\n",
       "        }\n",
       "\n",
       "        if (callback) {\n",
       "            try {\n",
       "                // console.log(\"Handling '\" + msg_type + \"' message: \", msg);\n",
       "                callback(fig, msg);\n",
       "            } catch (e) {\n",
       "                console.log(\"Exception inside the 'handler_\" + msg_type + \"' callback:\", e, e.stack, msg);\n",
       "            }\n",
       "        }\n",
       "    };\n",
       "}\n",
       "\n",
       "// from http://stackoverflow.com/questions/1114465/getting-mouse-location-in-canvas\n",
       "mpl.findpos = function(e) {\n",
       "    //this section is from http://www.quirksmode.org/js/events_properties.html\n",
       "    var targ;\n",
       "    if (!e)\n",
       "        e = window.event;\n",
       "    if (e.target)\n",
       "        targ = e.target;\n",
       "    else if (e.srcElement)\n",
       "        targ = e.srcElement;\n",
       "    if (targ.nodeType == 3) // defeat Safari bug\n",
       "        targ = targ.parentNode;\n",
       "\n",
       "    // jQuery normalizes the pageX and pageY\n",
       "    // pageX,Y are the mouse positions relative to the document\n",
       "    // offset() returns the position of the element relative to the document\n",
       "    var x = e.pageX - $(targ).offset().left;\n",
       "    var y = e.pageY - $(targ).offset().top;\n",
       "\n",
       "    return {\"x\": x, \"y\": y};\n",
       "};\n",
       "\n",
       "/*\n",
       " * return a copy of an object with only non-object keys\n",
       " * we need this to avoid circular references\n",
       " * http://stackoverflow.com/a/24161582/3208463\n",
       " */\n",
       "function simpleKeys (original) {\n",
       "  return Object.keys(original).reduce(function (obj, key) {\n",
       "    if (typeof original[key] !== 'object')\n",
       "        obj[key] = original[key]\n",
       "    return obj;\n",
       "  }, {});\n",
       "}\n",
       "\n",
       "mpl.figure.prototype.mouse_event = function(event, name) {\n",
       "    var canvas_pos = mpl.findpos(event)\n",
       "\n",
       "    if (name === 'button_press')\n",
       "    {\n",
       "        this.canvas.focus();\n",
       "        this.canvas_div.focus();\n",
       "    }\n",
       "\n",
       "    var x = canvas_pos.x * mpl.ratio;\n",
       "    var y = canvas_pos.y * mpl.ratio;\n",
       "\n",
       "    this.send_message(name, {x: x, y: y, button: event.button,\n",
       "                             step: event.step,\n",
       "                             guiEvent: simpleKeys(event)});\n",
       "\n",
       "    /* This prevents the web browser from automatically changing to\n",
       "     * the text insertion cursor when the button is pressed.  We want\n",
       "     * to control all of the cursor setting manually through the\n",
       "     * 'cursor' event from matplotlib */\n",
       "    event.preventDefault();\n",
       "    return false;\n",
       "}\n",
       "\n",
       "mpl.figure.prototype._key_event_extra = function(event, name) {\n",
       "    // Handle any extra behaviour associated with a key event\n",
       "}\n",
       "\n",
       "mpl.figure.prototype.key_event = function(event, name) {\n",
       "\n",
       "    // Prevent repeat events\n",
       "    if (name == 'key_press')\n",
       "    {\n",
       "        if (event.which === this._key)\n",
       "            return;\n",
       "        else\n",
       "            this._key = event.which;\n",
       "    }\n",
       "    if (name == 'key_release')\n",
       "        this._key = null;\n",
       "\n",
       "    var value = '';\n",
       "    if (event.ctrlKey && event.which != 17)\n",
       "        value += \"ctrl+\";\n",
       "    if (event.altKey && event.which != 18)\n",
       "        value += \"alt+\";\n",
       "    if (event.shiftKey && event.which != 16)\n",
       "        value += \"shift+\";\n",
       "\n",
       "    value += 'k';\n",
       "    value += event.which.toString();\n",
       "\n",
       "    this._key_event_extra(event, name);\n",
       "\n",
       "    this.send_message(name, {key: value,\n",
       "                             guiEvent: simpleKeys(event)});\n",
       "    return false;\n",
       "}\n",
       "\n",
       "mpl.figure.prototype.toolbar_button_onclick = function(name) {\n",
       "    if (name == 'download') {\n",
       "        this.handle_save(this, null);\n",
       "    } else {\n",
       "        this.send_message(\"toolbar_button\", {name: name});\n",
       "    }\n",
       "};\n",
       "\n",
       "mpl.figure.prototype.toolbar_button_onmouseover = function(tooltip) {\n",
       "    this.message.textContent = tooltip;\n",
       "};\n",
       "mpl.toolbar_items = [[\"Home\", \"Reset original view\", \"fa fa-home icon-home\", \"home\"], [\"Back\", \"Back to  previous view\", \"fa fa-arrow-left icon-arrow-left\", \"back\"], [\"Forward\", \"Forward to next view\", \"fa fa-arrow-right icon-arrow-right\", \"forward\"], [\"\", \"\", \"\", \"\"], [\"Pan\", \"Pan axes with left mouse, zoom with right\", \"fa fa-arrows icon-move\", \"pan\"], [\"Zoom\", \"Zoom to rectangle\", \"fa fa-square-o icon-check-empty\", \"zoom\"], [\"\", \"\", \"\", \"\"], [\"Download\", \"Download plot\", \"fa fa-floppy-o icon-save\", \"download\"]];\n",
       "\n",
       "mpl.extensions = [\"eps\", \"jpeg\", \"pdf\", \"png\", \"ps\", \"raw\", \"svg\", \"tif\"];\n",
       "\n",
       "mpl.default_extension = \"png\";var comm_websocket_adapter = function(comm) {\n",
       "    // Create a \"websocket\"-like object which calls the given IPython comm\n",
       "    // object with the appropriate methods. Currently this is a non binary\n",
       "    // socket, so there is still some room for performance tuning.\n",
       "    var ws = {};\n",
       "\n",
       "    ws.close = function() {\n",
       "        comm.close()\n",
       "    };\n",
       "    ws.send = function(m) {\n",
       "        //console.log('sending', m);\n",
       "        comm.send(m);\n",
       "    };\n",
       "    // Register the callback with on_msg.\n",
       "    comm.on_msg(function(msg) {\n",
       "        //console.log('receiving', msg['content']['data'], msg);\n",
       "        // Pass the mpl event to the overriden (by mpl) onmessage function.\n",
       "        ws.onmessage(msg['content']['data'])\n",
       "    });\n",
       "    return ws;\n",
       "}\n",
       "\n",
       "mpl.mpl_figure_comm = function(comm, msg) {\n",
       "    // This is the function which gets called when the mpl process\n",
       "    // starts-up an IPython Comm through the \"matplotlib\" channel.\n",
       "\n",
       "    var id = msg.content.data.id;\n",
       "    // Get hold of the div created by the display call when the Comm\n",
       "    // socket was opened in Python.\n",
       "    var element = $(\"#\" + id);\n",
       "    var ws_proxy = comm_websocket_adapter(comm)\n",
       "\n",
       "    function ondownload(figure, format) {\n",
       "        window.open(figure.imageObj.src);\n",
       "    }\n",
       "\n",
       "    var fig = new mpl.figure(id, ws_proxy,\n",
       "                           ondownload,\n",
       "                           element.get(0));\n",
       "\n",
       "    // Call onopen now - mpl needs it, as it is assuming we've passed it a real\n",
       "    // web socket which is closed, not our websocket->open comm proxy.\n",
       "    ws_proxy.onopen();\n",
       "\n",
       "    fig.parent_element = element.get(0);\n",
       "    fig.cell_info = mpl.find_output_cell(\"<div id='\" + id + \"'></div>\");\n",
       "    if (!fig.cell_info) {\n",
       "        console.error(\"Failed to find cell for figure\", id, fig);\n",
       "        return;\n",
       "    }\n",
       "\n",
       "    var output_index = fig.cell_info[2]\n",
       "    var cell = fig.cell_info[0];\n",
       "\n",
       "};\n",
       "\n",
       "mpl.figure.prototype.handle_close = function(fig, msg) {\n",
       "    var width = fig.canvas.width/mpl.ratio\n",
       "    fig.root.unbind('remove')\n",
       "\n",
       "    // Update the output cell to use the data from the current canvas.\n",
       "    fig.push_to_output();\n",
       "    var dataURL = fig.canvas.toDataURL();\n",
       "    // Re-enable the keyboard manager in IPython - without this line, in FF,\n",
       "    // the notebook keyboard shortcuts fail.\n",
       "    IPython.keyboard_manager.enable()\n",
       "    $(fig.parent_element).html('<img src=\"' + dataURL + '\" width=\"' + width + '\">');\n",
       "    fig.close_ws(fig, msg);\n",
       "}\n",
       "\n",
       "mpl.figure.prototype.close_ws = function(fig, msg){\n",
       "    fig.send_message('closing', msg);\n",
       "    // fig.ws.close()\n",
       "}\n",
       "\n",
       "mpl.figure.prototype.push_to_output = function(remove_interactive) {\n",
       "    // Turn the data on the canvas into data in the output cell.\n",
       "    var width = this.canvas.width/mpl.ratio\n",
       "    var dataURL = this.canvas.toDataURL();\n",
       "    this.cell_info[1]['text/html'] = '<img src=\"' + dataURL + '\" width=\"' + width + '\">';\n",
       "}\n",
       "\n",
       "mpl.figure.prototype.updated_canvas_event = function() {\n",
       "    // Tell IPython that the notebook contents must change.\n",
       "    IPython.notebook.set_dirty(true);\n",
       "    this.send_message(\"ack\", {});\n",
       "    var fig = this;\n",
       "    // Wait a second, then push the new image to the DOM so\n",
       "    // that it is saved nicely (might be nice to debounce this).\n",
       "    setTimeout(function () { fig.push_to_output() }, 1000);\n",
       "}\n",
       "\n",
       "mpl.figure.prototype._init_toolbar = function() {\n",
       "    var fig = this;\n",
       "\n",
       "    var nav_element = $('<div/>')\n",
       "    nav_element.attr('style', 'width: 100%');\n",
       "    this.root.append(nav_element);\n",
       "\n",
       "    // Define a callback function for later on.\n",
       "    function toolbar_event(event) {\n",
       "        return fig.toolbar_button_onclick(event['data']);\n",
       "    }\n",
       "    function toolbar_mouse_event(event) {\n",
       "        return fig.toolbar_button_onmouseover(event['data']);\n",
       "    }\n",
       "\n",
       "    for(var toolbar_ind in mpl.toolbar_items){\n",
       "        var name = mpl.toolbar_items[toolbar_ind][0];\n",
       "        var tooltip = mpl.toolbar_items[toolbar_ind][1];\n",
       "        var image = mpl.toolbar_items[toolbar_ind][2];\n",
       "        var method_name = mpl.toolbar_items[toolbar_ind][3];\n",
       "\n",
       "        if (!name) { continue; };\n",
       "\n",
       "        var button = $('<button class=\"btn btn-default\" href=\"#\" title=\"' + name + '\"><i class=\"fa ' + image + ' fa-lg\"></i></button>');\n",
       "        button.click(method_name, toolbar_event);\n",
       "        button.mouseover(tooltip, toolbar_mouse_event);\n",
       "        nav_element.append(button);\n",
       "    }\n",
       "\n",
       "    // Add the status bar.\n",
       "    var status_bar = $('<span class=\"mpl-message\" style=\"text-align:right; float: right;\"/>');\n",
       "    nav_element.append(status_bar);\n",
       "    this.message = status_bar[0];\n",
       "\n",
       "    // Add the close button to the window.\n",
       "    var buttongrp = $('<div class=\"btn-group inline pull-right\"></div>');\n",
       "    var button = $('<button class=\"btn btn-mini btn-primary\" href=\"#\" title=\"Stop Interaction\"><i class=\"fa fa-power-off icon-remove icon-large\"></i></button>');\n",
       "    button.click(function (evt) { fig.handle_close(fig, {}); } );\n",
       "    button.mouseover('Stop Interaction', toolbar_mouse_event);\n",
       "    buttongrp.append(button);\n",
       "    var titlebar = this.root.find($('.ui-dialog-titlebar'));\n",
       "    titlebar.prepend(buttongrp);\n",
       "}\n",
       "\n",
       "mpl.figure.prototype._root_extra_style = function(el){\n",
       "    var fig = this\n",
       "    el.on(\"remove\", function(){\n",
       "\tfig.close_ws(fig, {});\n",
       "    });\n",
       "}\n",
       "\n",
       "mpl.figure.prototype._canvas_extra_style = function(el){\n",
       "    // this is important to make the div 'focusable\n",
       "    el.attr('tabindex', 0)\n",
       "    // reach out to IPython and tell the keyboard manager to turn it's self\n",
       "    // off when our div gets focus\n",
       "\n",
       "    // location in version 3\n",
       "    if (IPython.notebook.keyboard_manager) {\n",
       "        IPython.notebook.keyboard_manager.register_events(el);\n",
       "    }\n",
       "    else {\n",
       "        // location in version 2\n",
       "        IPython.keyboard_manager.register_events(el);\n",
       "    }\n",
       "\n",
       "}\n",
       "\n",
       "mpl.figure.prototype._key_event_extra = function(event, name) {\n",
       "    var manager = IPython.notebook.keyboard_manager;\n",
       "    if (!manager)\n",
       "        manager = IPython.keyboard_manager;\n",
       "\n",
       "    // Check for shift+enter\n",
       "    if (event.shiftKey && event.which == 13) {\n",
       "        this.canvas_div.blur();\n",
       "        event.shiftKey = false;\n",
       "        // Send a \"J\" for go to next cell\n",
       "        event.which = 74;\n",
       "        event.keyCode = 74;\n",
       "        manager.command_mode();\n",
       "        manager.handle_keydown(event);\n",
       "    }\n",
       "}\n",
       "\n",
       "mpl.figure.prototype.handle_save = function(fig, msg) {\n",
       "    fig.ondownload(fig, null);\n",
       "}\n",
       "\n",
       "\n",
       "mpl.find_output_cell = function(html_output) {\n",
       "    // Return the cell and output element which can be found *uniquely* in the notebook.\n",
       "    // Note - this is a bit hacky, but it is done because the \"notebook_saving.Notebook\"\n",
       "    // IPython event is triggered only after the cells have been serialised, which for\n",
       "    // our purposes (turning an active figure into a static one), is too late.\n",
       "    var cells = IPython.notebook.get_cells();\n",
       "    var ncells = cells.length;\n",
       "    for (var i=0; i<ncells; i++) {\n",
       "        var cell = cells[i];\n",
       "        if (cell.cell_type === 'code'){\n",
       "            for (var j=0; j<cell.output_area.outputs.length; j++) {\n",
       "                var data = cell.output_area.outputs[j];\n",
       "                if (data.data) {\n",
       "                    // IPython >= 3 moved mimebundle to data attribute of output\n",
       "                    data = data.data;\n",
       "                }\n",
       "                if (data['text/html'] == html_output) {\n",
       "                    return [cell, data, j];\n",
       "                }\n",
       "            }\n",
       "        }\n",
       "    }\n",
       "}\n",
       "\n",
       "// Register the function which deals with the matplotlib target/channel.\n",
       "// The kernel may be null if the page has been refreshed.\n",
       "if (IPython.notebook.kernel != null) {\n",
       "    IPython.notebook.kernel.comm_manager.register_target('matplotlib', mpl.mpl_figure_comm);\n",
       "}\n"
      ],
      "text/plain": [
       "<IPython.core.display.Javascript object>"
      ]
     },
     "metadata": {},
     "output_type": "display_data"
    },
    {
     "data": {
      "text/html": [
       "<img src=\"data:image/png;base64,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\" width=\"640\">"
      ],
      "text/plain": [
       "<IPython.core.display.HTML object>"
      ]
     },
     "metadata": {},
     "output_type": "display_data"
    },
    {
     "data": {
      "text/plain": [
       "Text(0.5,0,'Y')"
      ]
     },
     "execution_count": 4,
     "metadata": {},
     "output_type": "execute_result"
    }
   ],
   "source": [
    "#Warning: Do not plot if N>1000 !\n",
    "fig = plt.figure()\n",
    "ax = fig.add_subplot(111, projection='3d')\n",
    "ax.scatter(X[0:N,0],X[0:N,1],Y[0:N])\n",
    "ax.set_xlabel('X1')\n",
    "ax.set_ylabel('X2')\n",
    "ax.set_zlabel('Y')\n"
   ]
  },
  {
   "cell_type": "code",
   "execution_count": 5,
   "metadata": {},
   "outputs": [
    {
     "data": {
      "text/plain": [
       "array([0.31179588, 0.69634349])"
      ]
     },
     "execution_count": 5,
     "metadata": {},
     "output_type": "execute_result"
    }
   ],
   "source": [
    "#Check theta values\n",
    "theta"
   ]
  },
  {
   "cell_type": "markdown",
   "metadata": {},
   "source": [
    "# 2) Ordinary Least Squares\n",
    "\n",
    "Let us first solve the linear regression using standard approaches:\n",
    "\n",
    "* Using Python sklearn and the sklearn.linear_model function\n",
    "* Using the least mean square equation with numpy"
   ]
  },
  {
   "cell_type": "markdown",
   "metadata": {},
   "source": [
    "## 2.1) Centralised approach"
   ]
  },
  {
   "cell_type": "markdown",
   "metadata": {},
   "source": [
    "### 2.1.1) Parameter identification using sklearn\n",
    "\n",
    "Let us compute the model coefficients with the [sklearn.linear_model](http://scikit-learn.org/stable/modules/generated/sklearn.linear_model.LinearRegression.html) function"
   ]
  },
  {
   "cell_type": "code",
   "execution_count": 6,
   "metadata": {},
   "outputs": [
    {
     "name": "stdout",
     "output_type": "stream",
     "text": [
      "Regression coefficient found with sklearn: [[0.31179588 0.69634349]]\n",
      "Time to fit linear model with sklearn:  0.0009 seconds\n"
     ]
    }
   ],
   "source": [
    "from sklearn import linear_model\n",
    "\n",
    "start = time.time()\n",
    "\n",
    "model = linear_model.LinearRegression(fit_intercept=False)\n",
    "model.fit(X,Y)\n",
    "\n",
    "end = time.time()\n",
    "\n",
    "print(\"Regression coefficient found with sklearn:\",model.coef_)\n",
    "print(\"Time to fit linear model with sklearn: \",round(end - start,4),\"seconds\")\n"
   ]
  },
  {
   "cell_type": "code",
   "execution_count": 8,
   "metadata": {
    "solution": "hidden"
   },
   "outputs": [
    {
     "data": {
      "text/plain": [
       "array([ 0.31179588,  0.69634349])"
      ]
     },
     "execution_count": 8,
     "metadata": {},
     "output_type": "execute_result"
    }
   ],
   "source": [
    "theta"
   ]
  },
  {
   "cell_type": "markdown",
   "metadata": {},
   "source": [
    "### 2.1.2) Parameter identification using numpy\n",
    "\n",
    "Let us compute the model coefficients using the OLS solution, with numpy [`dot`](https://docs.scipy.org/doc/numpy/reference/generated/numpy.dot.html), [`transpose`](https://docs.scipy.org/doc/numpy/reference/generated/numpy.transpose.html), and [`linalg.inv`](https://docs.scipy.org/doc/numpy/reference/generated/numpy.linalg.inv.html) functions.   "
   ]
  },
  {
   "cell_type": "markdown",
   "metadata": {},
   "source": [
    "**Exercise:**\n",
    "\n",
    "* Compute $X^TX$ using the numpy `dot` function (which computes the dot product), and store result in a variable XtX\n",
    "* Compute $X^TY$ using the numpy `dot` function, and store result in a variable XtY\n",
    "* Compute the inverse of $X^TX$ using the numpy `linalg.inv` function, and store result in a variable XtX_inverse\n",
    "* Compute coefficient $\\hat{\\theta}=(X^T X)^{-1} (X^T Y)$ using the numpy `dot` function and store the result in a variable theta_hat\n",
    "* Check that theta_hat is the same as the result found with `sklearn.linear_model`"
   ]
  },
  {
   "cell_type": "code",
   "execution_count": 7,
   "metadata": {},
   "outputs": [
    {
     "name": "stdout",
     "output_type": "stream",
     "text": [
      "Size of X^T X : (2, 2)\n",
      "Size of X^T Y : (2, 1)\n",
      "Size of (X^T X)^-1 : (2, 2)\n",
      "Size of \\hat{theta} : (2, 1)\n",
      "Regression coefficient found with numpy native implementation: [[0.31179588]\n",
      " [0.69634349]]\n",
      "Time to fit linear model with numpy:  0.0005 seconds\n"
     ]
    }
   ],
   "source": [
    "start = time.time()\n",
    "\n",
    "XtX=np.dot(np.transpose(X),X)\n",
    "XtY=np.dot(np.transpose(X),Y)\n",
    "\n",
    "XtX_inverse=np.linalg.inv(XtX)\n",
    "\n",
    "theta_hat=np.dot(XtX_inverse,XtY)\n",
    "\n",
    "end = time.time()\n",
    "\n",
    "print(\"Size of X^T X :\",XtX.shape)\n",
    "print(\"Size of X^T Y :\",XtY.shape)\n",
    "print(\"Size of (X^T X)^-1 :\",XtX_inverse.shape)\n",
    "print(\"Size of \\hat{theta} :\",theta_hat.shape)\n",
    "\n",
    "print(\"Regression coefficient found with numpy native implementation:\",theta_hat)\n",
    "print(\"Time to fit linear model with numpy: \",round(end - start,4),\"seconds\")\n"
   ]
  },
  {
   "cell_type": "markdown",
   "metadata": {},
   "source": [
    "## 2.2) Map/Reduce approach for OLS\n",
    "\n",
    "Summary of the approach:\n",
    "\n",
    "* $X^T X$ and $X^T Y$ are computed in a distributed way.\n",
    "* $X^T X$ and $X^T Y$ have size $n \\times n$ and $n$ respectively, with $n$ small. $(X^T X)^{-1} (X^T Y)$ can be computed locally (no need to distribute the computation of the matrix inverse).\n",
    "\n",
    "#### Distribution of the computation of $X^T X$ and $X^T Y$\n",
    "\n",
    "* Let $Z=[X|Y]$ be the $X$ matrix augmented with $Y$ as the last column.\n",
    "* Let $Z$ be partitioned into $B$ row blocks $Z_k$ of size $N_B \\times (n+1)$\n",
    "\n",
    "$$Z = \\left[\\begin{array}\n",
    "{r}\n",
    "Z_1  \\\\\n",
    "Z_2  \\\\\n",
    "...\\\\\n",
    "Z_B\n",
    "\\end{array}\\right]\n",
    "$$\n"
   ]
  },
  {
   "cell_type": "markdown",
   "metadata": {},
   "source": [
    "**The distributed implementation will consist in computing $X^TX$ and $X^TY$ in parallel using the block $Z_k$**.\n",
    "\n",
    "* **Stage 1**: Partitioning. Partition $Z$ in $B$ blocks $Z_k$, $1 \\le k \\le B$. This can be done when calling the `parallelize` function to create the Spark Resilient Distributed Dataset (RDDs). \n",
    "* **Stage 2**: Computation of partial $X^TX$ with mapping. For each row of the partition $Z_k$, return xtx$= x_k^T x_k$ (size $n \\times n$).\n",
    "* **Stage 3**: Reduce. Sum all xtx. (For more insight on map/reduce functions, check this instructional video by Socratica https://www.youtube.com/watch?v=hUes6y2b--0)\n",
    "* **Stage 4**: Computation of partial $X^TY$ with mapping. For each row of the partition $Z_k$, return xty$= x_k^T y_k$ (size $n \\times 1$).\n",
    "* **Stage 5**: Reduce. Sum all xty. \n",
    "* **Stage 6**: Collect. Collect the reduced XtX and XtY, and compute $\\hat{\\theta}^T = (X^T X)^{-1} (X^T Y)$.\n",
    "\n"
   ]
  },
  {
   "cell_type": "markdown",
   "metadata": {},
   "source": [
    "### Start Spark session"
   ]
  },
  {
   "cell_type": "code",
   "execution_count": 8,
   "metadata": {},
   "outputs": [],
   "source": [
    "os.environ['PYSPARK_SUBMIT_ARGS'] =\"--conf spark.driver.memory=2g  pyspark-shell\"\n",
    "\n",
    "from pyspark.sql import SparkSession\n",
    "\n",
    "#Start Spark session with local master and 2 cores\n",
    "spark = SparkSession \\\n",
    "    .builder \\\n",
    "    .master(\"local[2]\") \\\n",
    "    .appName(\"LinearRegression\") \\\n",
    "    .getOrCreate()\n",
    "\n",
    "#When dealing with RDDs, we work the sparkContext object. See https://spark.apache.org/docs/latest/api/python/pyspark.html#pyspark.SparkContext\n",
    "sc=spark.sparkContext"
   ]
  },
  {
   "cell_type": "code",
   "execution_count": 49,
   "metadata": {},
   "outputs": [],
   "source": [
    "#spark.stop()"
   ]
  },
  {
   "cell_type": "markdown",
   "metadata": {},
   "source": [
    "### Create RDD with B partitions"
   ]
  },
  {
   "cell_type": "code",
   "execution_count": 9,
   "metadata": {},
   "outputs": [],
   "source": [
    "#Let us use 2 partitions\n",
    "B=2\n",
    "Z_RDD=sc.parallelize(Z,B).cache()"
   ]
  },
  {
   "cell_type": "markdown",
   "metadata": {},
   "source": [
    "(Remember that we already have appended $Y$ to the $X$ matrix, by doing `Z=np.concatenate((X,Y),axis=1)` above.) "
   ]
  },
  {
   "cell_type": "code",
   "execution_count": 10,
   "metadata": {},
   "outputs": [
    {
     "name": "stdout",
     "output_type": "stream",
     "text": [
      "100\n",
      "[50, 50]\n"
     ]
    }
   ],
   "source": [
    "size_of_Z = Z_RDD.count()\n",
    "size_of_each_partition = Z_RDD.glom().map(len).collect()  \n",
    "print(size_of_Z)\n",
    "print(size_of_each_partition)"
   ]
  },
  {
   "cell_type": "markdown",
   "metadata": {},
   "source": [
    "**Exercise**\n",
    "\n",
    "* Open the Spark UI (yourIP:4040), check the DAG visualisation and event timeline\n",
    "* Change the number to B=5 partitions and reparallelize Z. What change do you expect in the event timeline?"
   ]
  },
  {
   "cell_type": "markdown",
   "metadata": {},
   "source": [
    "### 2.2.1) Approach 1: map function\n",
    "\n",
    "The standard approach for Map/Reduce consists in applying a map function to each row of an RDD using the `map` operator, and reduce the results using the `reduce` operator. Below is an example of the Map/Reduce implementation for computing XtX."
   ]
  },
  {
   "cell_type": "code",
   "execution_count": 63,
   "metadata": {},
   "outputs": [],
   "source": [
    "def xtx_row(z):\n",
    "    #x is all columns except the last one (y)\n",
    "    x=z[:-1]\n",
    "    # compute the outer product, see https://docs.scipy.org/doc/numpy/reference/generated/numpy.outer.html\n",
    "    xtx=np.outer(x,x)\n",
    "    return xtx\n",
    "\n",
    "XtX=Z_RDD.map(xtx_row).reduce(lambda x,y:(x+y))"
   ]
  },
  {
   "cell_type": "markdown",
   "metadata": {},
   "source": [
    "**Exercise:**\n",
    "    \n",
    "* What is the shape (number of rows/columns) of the resulting RDD?\n",
    "* Check the DAG, event timeline, and number of records/partitions in the Spark UI"
   ]
  },
  {
   "cell_type": "code",
   "execution_count": 57,
   "metadata": {},
   "outputs": [
    {
     "name": "stdout",
     "output_type": "stream",
     "text": [
      "[[34.34463715 24.47585898]\n",
      " [24.47585898 31.86436589]]\n"
     ]
    }
   ],
   "source": [
    "XtX.shape\n",
    "print(XtX)"
   ]
  },
  {
   "cell_type": "markdown",
   "metadata": {},
   "source": [
    "**Exercise:**\n",
    "\n",
    "* Apply the same approach as xtx_row for computing XtY. Call that function xty_row\n",
    "* Compute the coefficients $\\hat{\\theta}=(X^T X)^{-1} (X^T Y)$ using the numpy `dot` and `linalg.inv` functions and store the result in a variable theta_hat\n",
    "* Check that theta_hat is the same as the result found with `sklearn.linear_model` (no map/reduce needed here) "
   ]
  },
  {
   "cell_type": "code",
   "execution_count": 18,
   "metadata": {},
   "outputs": [
    {
     "name": "stdout",
     "output_type": "stream",
     "text": [
      "Size of X^T X : (2, 2)\n",
      "Size of X^T Y : (2,)\n",
      "Content of X^T Y : [27.75212147 29.82001575]\n",
      "Size of (X^T X)^-1 : (2, 2)\n",
      "Size of \\hat{theta} : (2,)\n",
      "Regression coefficient found with Spark map function: [0.31179588 0.69634349]\n",
      "Time to fit linear model with Spark map function, combined computation of xtx and xty:  0.09 seconds\n"
     ]
    }
   ],
   "source": [
    "def xty_row(z):\n",
    "    x=z[:-1]\n",
    "    #y is the last column\n",
    "    y=z[-1]\n",
    "    xty=x*y\n",
    "    return xty\n",
    "\n",
    "start = time.time()\n",
    "\n",
    "\n",
    "XtY=Z_RDD.map(xty_row).reduce(lambda x,y:(x+y))\n",
    "\n",
    "XtX_inverse=np.linalg.inv(XtX)\n",
    "\n",
    "theta_hat=np.dot(XtX_inverse,XtY)\n",
    "\n",
    "end = time.time()\n",
    "\n",
    "print(\"Size of X^T X :\",XtX.shape)\n",
    "print(\"Size of X^T Y :\",XtY.shape)\n",
    "print(\"Content of X^T Y :\",XtY)\n",
    "print(\"Size of (X^T X)^-1 :\",XtX_inverse.shape)\n",
    "print(\"Size of \\hat{theta} :\",theta_hat.shape)\n",
    "\n",
    "print(\"Regression coefficient found with Spark map function:\",theta_hat)\n",
    "print(\"Time to fit linear model with Spark map function, combined computation of xtx and xty: \",round(end - start,2),\"seconds\")\n"
   ]
  },
  {
   "cell_type": "markdown",
   "metadata": {},
   "source": [
    "### 2.2.2) Approach 2 : map function with combined computation of xtx and xty\n",
    "\n",
    "Instead of using separate map/reduce for computing XtX and XtY, both can be computed in a single map/reduce (since x and y are in z)."
   ]
  },
  {
   "cell_type": "markdown",
   "metadata": {},
   "source": [
    "**Exercise:**\n",
    "\n",
    "* Modify the xtx_row function in a xtx_xty_row function so that xtx and xty are computed in a single map. The output should be a tuple (xtx,xty)\n",
    "* Modify the map/reduce pipeline so the xtx_xty_row is applied, and adapt the reduce part so both elements (xtx,xty) are summed"
   ]
  },
  {
   "cell_type": "code",
   "execution_count": 65,
   "metadata": {},
   "outputs": [],
   "source": [
    "def xtx_xty_row(z):\n",
    "    x=np.array(z[:-1])\n",
    "    y=z[-1]\n",
    "    xtx=np.outer(x,x)\n",
    "    xty=np.dot(x,y)\n",
    "    return (xtx,xty)"
   ]
  },
  {
   "cell_type": "code",
   "execution_count": 66,
   "metadata": {},
   "outputs": [
    {
     "name": "stdout",
     "output_type": "stream",
     "text": [
      "Size of X^T X : (2, 2)\n",
      "Size of X^T Y : (2,)\n",
      "Size of (X^T X)^-1 : (2, 2)\n",
      "Size of \\hat{theta} : (2,)\n",
      "Regression coefficient found with Spark map function, combined computation of xtx and xty: [0.31179588 0.69634349]\n",
      "Time to fit linear model with Spark map function, combined computation of xtx and xty:  0.08 seconds\n"
     ]
    }
   ],
   "source": [
    "start = time.time()\n",
    "\n",
    "(XtX,XtY)=Z_RDD.cache().map(xtx_xty_row)\\\n",
    ".reduce(lambda xtx_xty0,xtx_xty1:(xtx_xty0[0]+xtx_xty1[0],xtx_xty0[1]+xtx_xty1[1]))\n",
    "\n",
    "XtX_inverse=np.linalg.inv(XtX)\n",
    "\n",
    "theta_hat=np.dot(XtX_inverse,XtY)\n",
    "\n",
    "end = time.time()\n",
    "\n",
    "print(\"Size of X^T X :\",XtX.shape)\n",
    "print(\"Size of X^T Y :\",XtY.shape)\n",
    "print(\"Size of (X^T X)^-1 :\",XtX_inverse.shape)\n",
    "print(\"Size of \\hat{theta} :\",theta_hat.shape)\n",
    "\n",
    "print(\"Regression coefficient found with Spark map function, combined computation of xtx and xty:\",theta_hat)\n",
    "print(\"Time to fit linear model with Spark map function, combined computation of xtx and xty: \",round(end - start,2),\"seconds\")\n"
   ]
  },
  {
   "cell_type": "markdown",
   "metadata": {
    "collapsed": true
   },
   "source": [
    "# 3) Gradient Descent\n",
    "\n"
   ]
  },
  {
   "cell_type": "markdown",
   "metadata": {},
   "source": [
    "## 3.1) Centralised approach\n",
    "\n",
    "``` \n",
    "GD(X,Y,T,η)\n",
    "N←nrow(X)\n",
    "theta_0 ← random initialization\n",
    "for t = 1 to T do\n",
    "    sum_gradient=0\n",
    "    for i = 1 to N\n",
    "        sum_gradient=sum_gradient − ηL'(x_i,y_i)\n",
    "    end_for\n",
    "    theta_t ← theta_(t−1)+sum_gradient/N \n",
    "end_for\n",
    "return theta_t \n",
    "``` \n",
    "L' is the derivative of L. For the squared loss, we have $L'(y_i, \\hat{y}_i)=(x_i \\theta^T-y_i)x_i$.\n",
    "\n",
    "Below is a function that implements this algorithm."
   ]
  },
  {
   "cell_type": "code",
   "execution_count": 19,
   "metadata": {},
   "outputs": [],
   "source": [
    "def GD(Z,T,eta,random_seed=0):\n",
    "    (N,n)=Z.shape\n",
    "    n=n-1\n",
    "\n",
    "    np.random.seed(random_seed)\n",
    "    theta_hat=np.random.rand(n)\n",
    "\n",
    "    for t in range(T):\n",
    "        sum_gradient=0\n",
    "        for i in range(N):\n",
    "            sum_gradient=sum_gradient+getGradient(Z[i,:],eta,theta_hat)\n",
    "        \n",
    "        theta_hat=theta_hat+sum_gradient/N\n",
    "    \n",
    "    return theta_hat"
   ]
  },
  {
   "cell_type": "markdown",
   "metadata": {},
   "source": [
    "**Exercise:**\n",
    "\n",
    "Implement a function getGradient, that takes as inputs z, eta and theta_hat, and returns the gradient at z using the derivative $L'(y_i, \\hat{y}_i)=(x_i \\theta^T-y_i)x_i$ "
   ]
  },
  {
   "cell_type": "code",
   "execution_count": 20,
   "metadata": {},
   "outputs": [],
   "source": [
    "def getGradient(z,eta,theta_hat):\n",
    "    x=z[:-1]\n",
    "    y=z[-1]\n",
    "    \n",
    "    gradient=-eta*(np.dot(x,theta_hat)-y)*x\n",
    "    \n",
    "    return gradient"
   ]
  },
  {
   "cell_type": "markdown",
   "metadata": {},
   "source": [
    "Run with T=50 (number of iterations), and eta=1 (learning rate)."
   ]
  },
  {
   "cell_type": "code",
   "execution_count": 37,
   "metadata": {},
   "outputs": [],
   "source": [
    "theta_hat=GD(Z,50,1)"
   ]
  },
  {
   "cell_type": "code",
   "execution_count": 38,
   "metadata": {},
   "outputs": [
    {
     "data": {
      "text/plain": [
       "array([0.31294729, 0.69513227])"
      ]
     },
     "execution_count": 38,
     "metadata": {},
     "output_type": "execute_result"
    }
   ],
   "source": [
    "theta_hat"
   ]
  },
  {
   "cell_type": "markdown",
   "metadata": {},
   "source": [
    "## 3.2) Map/Reduce approach\n",
    "\n",
    "Notice that getGradient can be applied row-wise to the Z array, and that all gradients can be summed using a reduce action."
   ]
  },
  {
   "cell_type": "markdown",
   "metadata": {},
   "source": [
    "**Exercise:**\n",
    "\n",
    "Write a function GD_MR equivalent to GD, that implements the gradient descent in a map/reduce way. Tip: Start from Z_RDD, map getGradient, reduce by summing the results."
   ]
  },
  {
   "cell_type": "code",
   "execution_count": 79,
   "metadata": {},
   "outputs": [],
   "source": [
    "def GD_MR(Z,T,eta,random_seed=0):\n",
    "    (N,n)=Z.shape\n",
    "    n=n-1\n",
    "\n",
    "    np.random.seed(random_seed)\n",
    "    theta_hat=np.random.rand(n)\n",
    "\n",
    "    for t in range(T):\n",
    "        sum_gradient=Z_RDD.map(lambda z: getGradient(z,eta,theta_hat)).reduce(lambda gradient1,gradient2:(gradient1+gradient2))\n",
    "\n",
    "        theta_hat=theta_hat+sum_gradient/N\n",
    "    \n",
    "    return theta_hat\n"
   ]
  },
  {
   "cell_type": "code",
   "execution_count": 80,
   "metadata": {},
   "outputs": [],
   "source": [
    "theta_hat=GD_MR(Z,50,1)"
   ]
  },
  {
   "cell_type": "code",
   "execution_count": 81,
   "metadata": {},
   "outputs": [
    {
     "data": {
      "text/plain": [
       "array([0.31294729, 0.69513227])"
      ]
     },
     "execution_count": 81,
     "metadata": {},
     "output_type": "execute_result"
    }
   ],
   "source": [
    "theta_hat"
   ]
  },
  {
   "cell_type": "markdown",
   "metadata": {},
   "source": [
    "Check in the Spark UI the resulting sequences of Spark jobs."
   ]
  },
  {
   "cell_type": "markdown",
   "metadata": {},
   "source": [
    "# 4) Linear regression with Spark ML\n",
    "\n",
    "The documentation for linear regression in Spark ML can be found at https://spark.apache.org/docs/latest/ml-classification-regression.html#linear-regression. \n",
    "\n",
    "It implements the OLS and gradient descent algorithms, which can be chosen by means of the `solver` parameter:\n",
    "* solver='normal' : Ordinary least squares\n",
    "* solver='l-bfgs': Gradient descent approach, using [the limited memory BFGS](https://en.wikipedia.org/wiki/Limited-memory_BFGS) optimisation algorihm (a more efficient version of the vanilla gradient descent we implement in section 3)\n",
    "* solver='auto': Default parameter. It lets Spark choose between normal and l-bfgs, depending on the number of input variables (normal if chosen if number of features<=4096). \n",
    "\n",
    "In order to use the LinearRegression interface, let us first format input data in a dataframe with `label` and `features` columns:\n"
   ]
  },
  {
   "cell_type": "code",
   "execution_count": 82,
   "metadata": {},
   "outputs": [
    {
     "name": "stdout",
     "output_type": "stream",
     "text": [
      "+------------------+--------------------+\n",
      "|             label|            features|\n",
      "+------------------+--------------------+\n",
      "|0.6691352490507825|[0.54881350392732...|\n",
      "|0.5673649951209327|[0.60276337607164...|\n",
      "|0.5818579819191105|[0.42365479933890...|\n",
      "|0.7574182130810158|[0.43758721126269...|\n",
      "|0.5674730853311307|[0.96366276050102...|\n",
      "+------------------+--------------------+\n",
      "only showing top 5 rows\n",
      "\n"
     ]
    }
   ],
   "source": [
    "from pyspark.ml.linalg import Vectors\n",
    "\n",
    "Z_RDD_tmp = map(lambda z: (float(z[-1]), Vectors.dense(z[0:-1])), Z)\n",
    "Z_DF = spark.createDataFrame(Z_RDD_tmp,schema=[\"label\", \"features\"])\n",
    "\n",
    "Z_DF.show(5)"
   ]
  },
  {
   "cell_type": "code",
   "execution_count": 32,
   "metadata": {},
   "outputs": [
    {
     "data": {
      "text/plain": [
       "100"
      ]
     },
     "execution_count": 32,
     "metadata": {},
     "output_type": "execute_result"
    }
   ],
   "source": [
    "Z_DF.count()"
   ]
  },
  {
   "cell_type": "markdown",
   "metadata": {},
   "source": [
    "We can now fit the model. "
   ]
  },
  {
   "cell_type": "markdown",
   "metadata": {},
   "source": [
    "**Exercise:**\n",
    "\n",
    "* Fit the model with the normal and l-bgfs algorithms. \n",
    "* Check the Spark UI and compare the different stages\n"
   ]
  },
  {
   "cell_type": "code",
   "execution_count": 83,
   "metadata": {},
   "outputs": [
    {
     "name": "stdout",
     "output_type": "stream",
     "text": [
      "Coefficients: [0.311795882068552,0.6963434890050514]\n",
      "Intercept: -1.3057799286286809e-10\n",
      "numIterations: 5\n",
      "objectiveHistory: [0.4949999999999998, 0.0015133886737815209, 1.0363354415579748e-05, 5.931637812062361e-11, 3.547904925174226e-20]\n",
      "RMSE: 0.000000\n"
     ]
    }
   ],
   "source": [
    "from pyspark.ml.regression import LinearRegression\n",
    "\n",
    "lr = LinearRegression(maxIter=10,solver=\"l-bfgs\")\n",
    "#lr = LinearRegression(solver=\"normal\")\n",
    "\n",
    "# Fit the model\n",
    "lrModel = lr.fit(Z_DF)\n",
    "\n",
    "# Print the coefficients and intercept for linear regression\n",
    "print(\"Coefficients: %s\" % str(lrModel.coefficients))\n",
    "print(\"Intercept: %s\" % str(lrModel.intercept))\n",
    "\n",
    "# Summarize the model over the training set and print out some metrics\n",
    "trainingSummary = lrModel.summary\n",
    "print(\"numIterations: %d\" % trainingSummary.totalIterations)\n",
    "print(\"objectiveHistory: %s\" % str(trainingSummary.objectiveHistory))\n",
    "print(\"Root Mean Squared Error: %f\" % trainingSummary.rootMeanSquaredError)"
   ]
  },
  {
   "cell_type": "code",
   "execution_count": 38,
   "metadata": {},
   "outputs": [
    {
     "data": {
      "text/plain": [
       "array([ 0.31179588,  0.69634349])"
      ]
     },
     "execution_count": 38,
     "metadata": {},
     "output_type": "execute_result"
    }
   ],
   "source": [
    "theta"
   ]
  },
  {
   "cell_type": "markdown",
   "metadata": {
    "solution": "hidden"
   },
   "source": [
    "## Relevant links\n",
    "\n",
    "* For a more practical application, see https://github.com/spark-mooc/mooc-setup/blob/master/ML_lab3_linear_reg_student.ipynb where regression with Spark ML is used to predict the year of a movie.\n",
    "\n",
    "Research articles on distributed gradient descent:\n",
    "\n",
    "* Zinkevich, M., Weimer, M., Li, L., & Smola, A. J. (2010). Parallelized stochastic gradient descent. In Advances in neural information processing systems (pp. 2595-2603). http://martin.zinkevich.org/publications/nips2010.pdf\n",
    "* Chu, C. T., Kim, S. K., Lin, Y. A., Yu, Y., Bradski, G., Olukotun, K., & Ng, A. Y. (2007). Map-reduce for machine learning on multicore. In Advances in neural information processing systems (pp. 281-288). https://papers.nips.cc/paper/3150-map-reduce-for-machine-learning-on-multicore.pdf\n",
    "\n"
   ]
  },
  {
   "cell_type": "code",
   "execution_count": null,
   "metadata": {
    "collapsed": true,
    "solution": "hidden"
   },
   "outputs": [],
   "source": []
  }
 ],
 "metadata": {
  "kernelspec": {
   "display_name": "Python 3",
   "language": "python",
   "name": "python3"
  },
  "language_info": {
   "codemirror_mode": {
    "name": "ipython",
    "version": 3
   },
   "file_extension": ".py",
   "mimetype": "text/x-python",
   "name": "python",
   "nbconvert_exporter": "python",
   "pygments_lexer": "ipython3",
   "version": "3.6.3"
  }
 },
 "nbformat": 4,
 "nbformat_minor": 2
}

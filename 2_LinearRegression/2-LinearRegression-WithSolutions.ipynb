{
 "cells": [
  {
   "cell_type": "markdown",
   "metadata": {},
   "source": [
    "# [INFO-H515 - Big Data Scalable Analytics](http://uv.ulb.ac.be/course/view.php?id=74317?username=guest)\n",
    "\n",
    "\n",
    "## TP 2 - Linear Regression with Map Reduce\n",
    "\n",
    "#### *Yann-Aël Le Borgne, Jacopo De Stefani and Gianluca Bontempi*\n",
    "\n",
    "####  25/04/2018"
   ]
  },
  {
   "cell_type": "markdown",
   "metadata": {},
   "source": [
    "This class aims at implementing from scratch map-reduce solutions to linear regression problems. Linear regression consists in approximating an output (response) variable $y$ by a linear combination of a set of inputs (dependent variables) $x_i$.\n",
    "\n",
    "![](./img/ExampleLinReg.png)\n",
    "\n",
    "The two main approaches to solve linear regression problems are the Ordinary Least Squares (OLS), and the Gradient Descent (GD). \n",
    "\n",
    "### Class objectives:\n",
    "\n",
    "* Review the solving of a linear regression problem using the standard ML sklearn Python toolbox\n",
    "* Review the ordinary least square (OLS) solution. Implement it from scratch using numpy\n",
    "* Implement the Map/Reduce OLS solution using Spark\n",
    "* Review the Gradient Descent (GD) solution. Implement it from scratch using numpy\n",
    "* Implement the Map/Reduce GD solution using Spark\n",
    "* Solve the problem using Spark ML library - LinearRegression, and its OLS and gradient descent implementations\n",
    "* Interpret Spark optimisation plan and algorithm distribution in the Spark user interface\n",
    "\n"
   ]
  },
  {
   "cell_type": "markdown",
   "metadata": {},
   "source": [
    "# Linear regression - Background theory\n",
    "\n",
    "* Linear regression is a widely used method in predictive analytics.\n",
    "* It consists in approximating an output by a weighted sum of the inputs, in such a way that the mean square error between the predicted and true outputs is minimized.\n",
    "\n",
    "### Notations\n",
    "* Let $(x_i,y_i)$, $1 \\le i \\le N$, be a set of $N$ observations, with $x_i \\in \\mathbb{R}^n$ and $y_i \\in \\mathbb{R}$. $x_i$ are the inputs, and $y_i$ the outputs.\n",
    "* Let $X$ be the matrix of inputs with rows $x_i$, of size $N \\times n$ ($N$ observations, (rows) and $n$ features (columns)). \n",
    "* Let $Y \\in \\mathbb{R}^N$ be the vector of outputs $y_i$.\n",
    "* Let $\\theta \\in \\mathbb{R}^n$ be the parameters of a linear model $\\hat{y_i}=\\theta x_i^T$.\n",
    "* Let $L(y_i, \\hat{y}_i)=\\frac{1}{2}(y_i-\\hat{y}_i)^2$ be the mean squared loss function.\n",
    "\n"
   ]
  },
  {
   "cell_type": "markdown",
   "metadata": {},
   "source": [
    "\n",
    "### Solutions to the regression problems\n",
    "\n",
    "#### Ordinary least squares\n",
    "\n",
    "[It can be shown](https://theclevermachine.wordpress.com/2012/09/01/derivation-of-ols-normal-equations/) that the set of parameters $\\hat{\\theta}$ which minimize the loss function $L$ over the whole set of observations $(X,Y)$ is given by\n",
    "\n",
    "$$\n",
    "\\hat{\\theta}^T = (X^T X)^{-1} (X^T Y)\n",
    "$$\n",
    "\n",
    "This is the **Ordinary Least Square** solution, which is the closed form solution.\n",
    "\n",
    "#### Gradient descent \n",
    "\n",
    "The closed form solution (OLS) requires a matrix inversion, which is not possible if $X^T X$ is singular (which happens if $n>N$ or if a feature is a linear combination of others). An alternative to the OLS method is the  Gradient Descent (GD) method. The linear regression weights are first drawn at random. They are then iteratively updated by summing and averaging the gradients for all $x_i$ in $X$.    \n",
    "\n",
    "``` \n",
    "GD(X,Y,T,η)\n",
    "N<-nrow(X)\n",
    "theta_0 <- random initialization\n",
    "for t = 1 to T do\n",
    "    sum_gradient=0\n",
    "    for i = 1 to N\n",
    "        sum_gradient=sum_gradient − ηL'(x_i,y_i)\n",
    "    end_for\n",
    "    theta_t ← theta_(t−1)+sum_gradient/N\n",
    "end_for\n",
    "return theta_t\n",
    "``` \n",
    "L' is the derivative of L. For the squared loss, we have $L'(y_i, \\hat{y}_i)=(x_i \\theta^T-y_i)x_i$.\n",
    "\n",
    "Note that the GD approach requires two hyperparameters: The number of iteration $T$, and the learning rate $η$, which controls how 'fast' the linear weights are updated. Tuning $T$ and $η$ to efficiently solve the problem is in practice often difficult. "
   ]
  },
  {
   "cell_type": "markdown",
   "metadata": {},
   "source": [
    "### Map/Reduce\n",
    "\n",
    "If X and Y do not fit in memory, Map/Reduce can be used to solve the linear regression problem in a distributed way. Two cases can be distinguished:\n",
    "\n",
    "* ** $N$ large and $n$ 'small' ** : $X^TX$ and $X^TY$ are of size $n \\times n$ and $n \\times 1$, respectively, and can be assumed to be 'small' enough to fit in the memory of a single machine. Only the matrix products $X^TX$ and $X^TY$ are computed with Map/Reduce in a distributed way. The matrix inversion $(X^TX)^{-1}$ and resulting product $\\hat{\\theta}^T = (X^T X)^{-1} (X^T Y)$ are then computed on a single machine.\n",
    "\n",
    "* ** $n$ 'large' ** : The matrix product $X^TX$ has size $n^2$ which can become too large to fit on a single machine. The risk that $X^TX$ is singular and that the inverse cannot be computed is also increased. The Map/Reduce GD method must be used.\n",
    "\n"
   ]
  },
  {
   "cell_type": "markdown",
   "metadata": {},
   "source": [
    "# General imports"
   ]
  },
  {
   "cell_type": "code",
   "execution_count": 2,
   "metadata": {
    "collapsed": true
   },
   "outputs": [],
   "source": [
    "import time\n",
    "import os \n",
    "import numpy as np\n",
    "\n",
    "%matplotlib notebook  \n",
    "import matplotlib as mpl\n",
    "import matplotlib.pyplot as plt\n",
    "from mpl_toolkits.mplot3d import Axes3D\n"
   ]
  },
  {
   "cell_type": "markdown",
   "metadata": {},
   "source": [
    "We will be using mostly numpy and Spark RDD libraries. For reference, you can look up the details of the relevant Spark methods in [Spark's Python API](https://spark.apache.org/docs/latest/api/python/pyspark.html#pyspark.RDD) and the relevant [NumPy](https://docs.scipy.org/doc/numpy/reference/index.html) methods in the NumPy Reference."
   ]
  },
  {
   "cell_type": "markdown",
   "metadata": {},
   "source": [
    "# 1) Dataset generation\n",
    "\n",
    "Let us first generate an artificial dataset of $N$ observations where the output $y$ is a linear combination of $n$ inputs plus gaussian noise."
   ]
  },
  {
   "cell_type": "code",
   "execution_count": 3,
   "metadata": {
    "collapsed": true
   },
   "outputs": [],
   "source": [
    "def genData(N,n,random_seed):\n",
    "    \n",
    "    start = time.time()\n",
    "\n",
    "    np.random.seed(0)   \n",
    "\n",
    "    #Inputs and the weights of the linear combination are drawn at random\n",
    "    X=np.random.rand(N,n)\n",
    "    theta=np.random.rand(n)\n",
    "    #noise=np.random.rand(N)\n",
    "\n",
    "    Y=np.dot(X,theta)#+noise\n",
    "    Y=Y[:,np.newaxis]\n",
    "    Z=np.concatenate((X,Y),axis=1)\n",
    "\n",
    "    print(\"Number of observations :\",N)\n",
    "    print(\"Number of features :\",n)\n",
    "\n",
    "    print(\"Dimension of X :\",X.shape)\n",
    "    print(\"Dimension of theta :\",theta.shape)\n",
    "    print(\"Dimension of Y :\",Y.shape)\n",
    "\n",
    "    end = time.time()\n",
    "    print(\"Time to create artificial data: \",round(end - start,2),\"seconds\")\n",
    "    \n",
    "    return (X,Y,Z,theta)"
   ]
  },
  {
   "cell_type": "code",
   "execution_count": 4,
   "metadata": {
    "scrolled": true
   },
   "outputs": [
    {
     "name": "stdout",
     "output_type": "stream",
     "text": [
      "Number of observations : 100\n",
      "Number of features : 2\n",
      "Dimension of X : (100, 2)\n",
      "Dimension of theta : (2,)\n",
      "Dimension of Y : (100, 1)\n",
      "Time to create artificial data:  0.17 seconds\n"
     ]
    }
   ],
   "source": [
    "#Let us generate the dataset\n",
    "N=100\n",
    "n=2\n",
    "(X,Y,Z,theta)=genData(N,n,0)"
   ]
  },
  {
   "cell_type": "code",
   "execution_count": 5,
   "metadata": {},
   "outputs": [
    {
     "data": {
      "application/javascript": [
       "/* Put everything inside the global mpl namespace */\n",
       "window.mpl = {};\n",
       "\n",
       "\n",
       "mpl.get_websocket_type = function() {\n",
       "    if (typeof(WebSocket) !== 'undefined') {\n",
       "        return WebSocket;\n",
       "    } else if (typeof(MozWebSocket) !== 'undefined') {\n",
       "        return MozWebSocket;\n",
       "    } else {\n",
       "        alert('Your browser does not have WebSocket support.' +\n",
       "              'Please try Chrome, Safari or Firefox ≥ 6. ' +\n",
       "              'Firefox 4 and 5 are also supported but you ' +\n",
       "              'have to enable WebSockets in about:config.');\n",
       "    };\n",
       "}\n",
       "\n",
       "mpl.figure = function(figure_id, websocket, ondownload, parent_element) {\n",
       "    this.id = figure_id;\n",
       "\n",
       "    this.ws = websocket;\n",
       "\n",
       "    this.supports_binary = (this.ws.binaryType != undefined);\n",
       "\n",
       "    if (!this.supports_binary) {\n",
       "        var warnings = document.getElementById(\"mpl-warnings\");\n",
       "        if (warnings) {\n",
       "            warnings.style.display = 'block';\n",
       "            warnings.textContent = (\n",
       "                \"This browser does not support binary websocket messages. \" +\n",
       "                    \"Performance may be slow.\");\n",
       "        }\n",
       "    }\n",
       "\n",
       "    this.imageObj = new Image();\n",
       "\n",
       "    this.context = undefined;\n",
       "    this.message = undefined;\n",
       "    this.canvas = undefined;\n",
       "    this.rubberband_canvas = undefined;\n",
       "    this.rubberband_context = undefined;\n",
       "    this.format_dropdown = undefined;\n",
       "\n",
       "    this.image_mode = 'full';\n",
       "\n",
       "    this.root = $('<div/>');\n",
       "    this._root_extra_style(this.root)\n",
       "    this.root.attr('style', 'display: inline-block');\n",
       "\n",
       "    $(parent_element).append(this.root);\n",
       "\n",
       "    this._init_header(this);\n",
       "    this._init_canvas(this);\n",
       "    this._init_toolbar(this);\n",
       "\n",
       "    var fig = this;\n",
       "\n",
       "    this.waiting = false;\n",
       "\n",
       "    this.ws.onopen =  function () {\n",
       "            fig.send_message(\"supports_binary\", {value: fig.supports_binary});\n",
       "            fig.send_message(\"send_image_mode\", {});\n",
       "            if (mpl.ratio != 1) {\n",
       "                fig.send_message(\"set_dpi_ratio\", {'dpi_ratio': mpl.ratio});\n",
       "            }\n",
       "            fig.send_message(\"refresh\", {});\n",
       "        }\n",
       "\n",
       "    this.imageObj.onload = function() {\n",
       "            if (fig.image_mode == 'full') {\n",
       "                // Full images could contain transparency (where diff images\n",
       "                // almost always do), so we need to clear the canvas so that\n",
       "                // there is no ghosting.\n",
       "                fig.context.clearRect(0, 0, fig.canvas.width, fig.canvas.height);\n",
       "            }\n",
       "            fig.context.drawImage(fig.imageObj, 0, 0);\n",
       "        };\n",
       "\n",
       "    this.imageObj.onunload = function() {\n",
       "        this.ws.close();\n",
       "    }\n",
       "\n",
       "    this.ws.onmessage = this._make_on_message_function(this);\n",
       "\n",
       "    this.ondownload = ondownload;\n",
       "}\n",
       "\n",
       "mpl.figure.prototype._init_header = function() {\n",
       "    var titlebar = $(\n",
       "        '<div class=\"ui-dialog-titlebar ui-widget-header ui-corner-all ' +\n",
       "        'ui-helper-clearfix\"/>');\n",
       "    var titletext = $(\n",
       "        '<div class=\"ui-dialog-title\" style=\"width: 100%; ' +\n",
       "        'text-align: center; padding: 3px;\"/>');\n",
       "    titlebar.append(titletext)\n",
       "    this.root.append(titlebar);\n",
       "    this.header = titletext[0];\n",
       "}\n",
       "\n",
       "\n",
       "\n",
       "mpl.figure.prototype._canvas_extra_style = function(canvas_div) {\n",
       "\n",
       "}\n",
       "\n",
       "\n",
       "mpl.figure.prototype._root_extra_style = function(canvas_div) {\n",
       "\n",
       "}\n",
       "\n",
       "mpl.figure.prototype._init_canvas = function() {\n",
       "    var fig = this;\n",
       "\n",
       "    var canvas_div = $('<div/>');\n",
       "\n",
       "    canvas_div.attr('style', 'position: relative; clear: both; outline: 0');\n",
       "\n",
       "    function canvas_keyboard_event(event) {\n",
       "        return fig.key_event(event, event['data']);\n",
       "    }\n",
       "\n",
       "    canvas_div.keydown('key_press', canvas_keyboard_event);\n",
       "    canvas_div.keyup('key_release', canvas_keyboard_event);\n",
       "    this.canvas_div = canvas_div\n",
       "    this._canvas_extra_style(canvas_div)\n",
       "    this.root.append(canvas_div);\n",
       "\n",
       "    var canvas = $('<canvas/>');\n",
       "    canvas.addClass('mpl-canvas');\n",
       "    canvas.attr('style', \"left: 0; top: 0; z-index: 0; outline: 0\")\n",
       "\n",
       "    this.canvas = canvas[0];\n",
       "    this.context = canvas[0].getContext(\"2d\");\n",
       "\n",
       "    var backingStore = this.context.backingStorePixelRatio ||\n",
       "\tthis.context.webkitBackingStorePixelRatio ||\n",
       "\tthis.context.mozBackingStorePixelRatio ||\n",
       "\tthis.context.msBackingStorePixelRatio ||\n",
       "\tthis.context.oBackingStorePixelRatio ||\n",
       "\tthis.context.backingStorePixelRatio || 1;\n",
       "\n",
       "    mpl.ratio = (window.devicePixelRatio || 1) / backingStore;\n",
       "\n",
       "    var rubberband = $('<canvas/>');\n",
       "    rubberband.attr('style', \"position: absolute; left: 0; top: 0; z-index: 1;\")\n",
       "\n",
       "    var pass_mouse_events = true;\n",
       "\n",
       "    canvas_div.resizable({\n",
       "        start: function(event, ui) {\n",
       "            pass_mouse_events = false;\n",
       "        },\n",
       "        resize: function(event, ui) {\n",
       "            fig.request_resize(ui.size.width, ui.size.height);\n",
       "        },\n",
       "        stop: function(event, ui) {\n",
       "            pass_mouse_events = true;\n",
       "            fig.request_resize(ui.size.width, ui.size.height);\n",
       "        },\n",
       "    });\n",
       "\n",
       "    function mouse_event_fn(event) {\n",
       "        if (pass_mouse_events)\n",
       "            return fig.mouse_event(event, event['data']);\n",
       "    }\n",
       "\n",
       "    rubberband.mousedown('button_press', mouse_event_fn);\n",
       "    rubberband.mouseup('button_release', mouse_event_fn);\n",
       "    // Throttle sequential mouse events to 1 every 20ms.\n",
       "    rubberband.mousemove('motion_notify', mouse_event_fn);\n",
       "\n",
       "    rubberband.mouseenter('figure_enter', mouse_event_fn);\n",
       "    rubberband.mouseleave('figure_leave', mouse_event_fn);\n",
       "\n",
       "    canvas_div.on(\"wheel\", function (event) {\n",
       "        event = event.originalEvent;\n",
       "        event['data'] = 'scroll'\n",
       "        if (event.deltaY < 0) {\n",
       "            event.step = 1;\n",
       "        } else {\n",
       "            event.step = -1;\n",
       "        }\n",
       "        mouse_event_fn(event);\n",
       "    });\n",
       "\n",
       "    canvas_div.append(canvas);\n",
       "    canvas_div.append(rubberband);\n",
       "\n",
       "    this.rubberband = rubberband;\n",
       "    this.rubberband_canvas = rubberband[0];\n",
       "    this.rubberband_context = rubberband[0].getContext(\"2d\");\n",
       "    this.rubberband_context.strokeStyle = \"#000000\";\n",
       "\n",
       "    this._resize_canvas = function(width, height) {\n",
       "        // Keep the size of the canvas, canvas container, and rubber band\n",
       "        // canvas in synch.\n",
       "        canvas_div.css('width', width)\n",
       "        canvas_div.css('height', height)\n",
       "\n",
       "        canvas.attr('width', width * mpl.ratio);\n",
       "        canvas.attr('height', height * mpl.ratio);\n",
       "        canvas.attr('style', 'width: ' + width + 'px; height: ' + height + 'px;');\n",
       "\n",
       "        rubberband.attr('width', width);\n",
       "        rubberband.attr('height', height);\n",
       "    }\n",
       "\n",
       "    // Set the figure to an initial 600x600px, this will subsequently be updated\n",
       "    // upon first draw.\n",
       "    this._resize_canvas(600, 600);\n",
       "\n",
       "    // Disable right mouse context menu.\n",
       "    $(this.rubberband_canvas).bind(\"contextmenu\",function(e){\n",
       "        return false;\n",
       "    });\n",
       "\n",
       "    function set_focus () {\n",
       "        canvas.focus();\n",
       "        canvas_div.focus();\n",
       "    }\n",
       "\n",
       "    window.setTimeout(set_focus, 100);\n",
       "}\n",
       "\n",
       "mpl.figure.prototype._init_toolbar = function() {\n",
       "    var fig = this;\n",
       "\n",
       "    var nav_element = $('<div/>')\n",
       "    nav_element.attr('style', 'width: 100%');\n",
       "    this.root.append(nav_element);\n",
       "\n",
       "    // Define a callback function for later on.\n",
       "    function toolbar_event(event) {\n",
       "        return fig.toolbar_button_onclick(event['data']);\n",
       "    }\n",
       "    function toolbar_mouse_event(event) {\n",
       "        return fig.toolbar_button_onmouseover(event['data']);\n",
       "    }\n",
       "\n",
       "    for(var toolbar_ind in mpl.toolbar_items) {\n",
       "        var name = mpl.toolbar_items[toolbar_ind][0];\n",
       "        var tooltip = mpl.toolbar_items[toolbar_ind][1];\n",
       "        var image = mpl.toolbar_items[toolbar_ind][2];\n",
       "        var method_name = mpl.toolbar_items[toolbar_ind][3];\n",
       "\n",
       "        if (!name) {\n",
       "            // put a spacer in here.\n",
       "            continue;\n",
       "        }\n",
       "        var button = $('<button/>');\n",
       "        button.addClass('ui-button ui-widget ui-state-default ui-corner-all ' +\n",
       "                        'ui-button-icon-only');\n",
       "        button.attr('role', 'button');\n",
       "        button.attr('aria-disabled', 'false');\n",
       "        button.click(method_name, toolbar_event);\n",
       "        button.mouseover(tooltip, toolbar_mouse_event);\n",
       "\n",
       "        var icon_img = $('<span/>');\n",
       "        icon_img.addClass('ui-button-icon-primary ui-icon');\n",
       "        icon_img.addClass(image);\n",
       "        icon_img.addClass('ui-corner-all');\n",
       "\n",
       "        var tooltip_span = $('<span/>');\n",
       "        tooltip_span.addClass('ui-button-text');\n",
       "        tooltip_span.html(tooltip);\n",
       "\n",
       "        button.append(icon_img);\n",
       "        button.append(tooltip_span);\n",
       "\n",
       "        nav_element.append(button);\n",
       "    }\n",
       "\n",
       "    var fmt_picker_span = $('<span/>');\n",
       "\n",
       "    var fmt_picker = $('<select/>');\n",
       "    fmt_picker.addClass('mpl-toolbar-option ui-widget ui-widget-content');\n",
       "    fmt_picker_span.append(fmt_picker);\n",
       "    nav_element.append(fmt_picker_span);\n",
       "    this.format_dropdown = fmt_picker[0];\n",
       "\n",
       "    for (var ind in mpl.extensions) {\n",
       "        var fmt = mpl.extensions[ind];\n",
       "        var option = $(\n",
       "            '<option/>', {selected: fmt === mpl.default_extension}).html(fmt);\n",
       "        fmt_picker.append(option)\n",
       "    }\n",
       "\n",
       "    // Add hover states to the ui-buttons\n",
       "    $( \".ui-button\" ).hover(\n",
       "        function() { $(this).addClass(\"ui-state-hover\");},\n",
       "        function() { $(this).removeClass(\"ui-state-hover\");}\n",
       "    );\n",
       "\n",
       "    var status_bar = $('<span class=\"mpl-message\"/>');\n",
       "    nav_element.append(status_bar);\n",
       "    this.message = status_bar[0];\n",
       "}\n",
       "\n",
       "mpl.figure.prototype.request_resize = function(x_pixels, y_pixels) {\n",
       "    // Request matplotlib to resize the figure. Matplotlib will then trigger a resize in the client,\n",
       "    // which will in turn request a refresh of the image.\n",
       "    this.send_message('resize', {'width': x_pixels, 'height': y_pixels});\n",
       "}\n",
       "\n",
       "mpl.figure.prototype.send_message = function(type, properties) {\n",
       "    properties['type'] = type;\n",
       "    properties['figure_id'] = this.id;\n",
       "    this.ws.send(JSON.stringify(properties));\n",
       "}\n",
       "\n",
       "mpl.figure.prototype.send_draw_message = function() {\n",
       "    if (!this.waiting) {\n",
       "        this.waiting = true;\n",
       "        this.ws.send(JSON.stringify({type: \"draw\", figure_id: this.id}));\n",
       "    }\n",
       "}\n",
       "\n",
       "\n",
       "mpl.figure.prototype.handle_save = function(fig, msg) {\n",
       "    var format_dropdown = fig.format_dropdown;\n",
       "    var format = format_dropdown.options[format_dropdown.selectedIndex].value;\n",
       "    fig.ondownload(fig, format);\n",
       "}\n",
       "\n",
       "\n",
       "mpl.figure.prototype.handle_resize = function(fig, msg) {\n",
       "    var size = msg['size'];\n",
       "    if (size[0] != fig.canvas.width || size[1] != fig.canvas.height) {\n",
       "        fig._resize_canvas(size[0], size[1]);\n",
       "        fig.send_message(\"refresh\", {});\n",
       "    };\n",
       "}\n",
       "\n",
       "mpl.figure.prototype.handle_rubberband = function(fig, msg) {\n",
       "    var x0 = msg['x0'] / mpl.ratio;\n",
       "    var y0 = (fig.canvas.height - msg['y0']) / mpl.ratio;\n",
       "    var x1 = msg['x1'] / mpl.ratio;\n",
       "    var y1 = (fig.canvas.height - msg['y1']) / mpl.ratio;\n",
       "    x0 = Math.floor(x0) + 0.5;\n",
       "    y0 = Math.floor(y0) + 0.5;\n",
       "    x1 = Math.floor(x1) + 0.5;\n",
       "    y1 = Math.floor(y1) + 0.5;\n",
       "    var min_x = Math.min(x0, x1);\n",
       "    var min_y = Math.min(y0, y1);\n",
       "    var width = Math.abs(x1 - x0);\n",
       "    var height = Math.abs(y1 - y0);\n",
       "\n",
       "    fig.rubberband_context.clearRect(\n",
       "        0, 0, fig.canvas.width, fig.canvas.height);\n",
       "\n",
       "    fig.rubberband_context.strokeRect(min_x, min_y, width, height);\n",
       "}\n",
       "\n",
       "mpl.figure.prototype.handle_figure_label = function(fig, msg) {\n",
       "    // Updates the figure title.\n",
       "    fig.header.textContent = msg['label'];\n",
       "}\n",
       "\n",
       "mpl.figure.prototype.handle_cursor = function(fig, msg) {\n",
       "    var cursor = msg['cursor'];\n",
       "    switch(cursor)\n",
       "    {\n",
       "    case 0:\n",
       "        cursor = 'pointer';\n",
       "        break;\n",
       "    case 1:\n",
       "        cursor = 'default';\n",
       "        break;\n",
       "    case 2:\n",
       "        cursor = 'crosshair';\n",
       "        break;\n",
       "    case 3:\n",
       "        cursor = 'move';\n",
       "        break;\n",
       "    }\n",
       "    fig.rubberband_canvas.style.cursor = cursor;\n",
       "}\n",
       "\n",
       "mpl.figure.prototype.handle_message = function(fig, msg) {\n",
       "    fig.message.textContent = msg['message'];\n",
       "}\n",
       "\n",
       "mpl.figure.prototype.handle_draw = function(fig, msg) {\n",
       "    // Request the server to send over a new figure.\n",
       "    fig.send_draw_message();\n",
       "}\n",
       "\n",
       "mpl.figure.prototype.handle_image_mode = function(fig, msg) {\n",
       "    fig.image_mode = msg['mode'];\n",
       "}\n",
       "\n",
       "mpl.figure.prototype.updated_canvas_event = function() {\n",
       "    // Called whenever the canvas gets updated.\n",
       "    this.send_message(\"ack\", {});\n",
       "}\n",
       "\n",
       "// A function to construct a web socket function for onmessage handling.\n",
       "// Called in the figure constructor.\n",
       "mpl.figure.prototype._make_on_message_function = function(fig) {\n",
       "    return function socket_on_message(evt) {\n",
       "        if (evt.data instanceof Blob) {\n",
       "            /* FIXME: We get \"Resource interpreted as Image but\n",
       "             * transferred with MIME type text/plain:\" errors on\n",
       "             * Chrome.  But how to set the MIME type?  It doesn't seem\n",
       "             * to be part of the websocket stream */\n",
       "            evt.data.type = \"image/png\";\n",
       "\n",
       "            /* Free the memory for the previous frames */\n",
       "            if (fig.imageObj.src) {\n",
       "                (window.URL || window.webkitURL).revokeObjectURL(\n",
       "                    fig.imageObj.src);\n",
       "            }\n",
       "\n",
       "            fig.imageObj.src = (window.URL || window.webkitURL).createObjectURL(\n",
       "                evt.data);\n",
       "            fig.updated_canvas_event();\n",
       "            fig.waiting = false;\n",
       "            return;\n",
       "        }\n",
       "        else if (typeof evt.data === 'string' && evt.data.slice(0, 21) == \"data:image/png;base64\") {\n",
       "            fig.imageObj.src = evt.data;\n",
       "            fig.updated_canvas_event();\n",
       "            fig.waiting = false;\n",
       "            return;\n",
       "        }\n",
       "\n",
       "        var msg = JSON.parse(evt.data);\n",
       "        var msg_type = msg['type'];\n",
       "\n",
       "        // Call the  \"handle_{type}\" callback, which takes\n",
       "        // the figure and JSON message as its only arguments.\n",
       "        try {\n",
       "            var callback = fig[\"handle_\" + msg_type];\n",
       "        } catch (e) {\n",
       "            console.log(\"No handler for the '\" + msg_type + \"' message type: \", msg);\n",
       "            return;\n",
       "        }\n",
       "\n",
       "        if (callback) {\n",
       "            try {\n",
       "                // console.log(\"Handling '\" + msg_type + \"' message: \", msg);\n",
       "                callback(fig, msg);\n",
       "            } catch (e) {\n",
       "                console.log(\"Exception inside the 'handler_\" + msg_type + \"' callback:\", e, e.stack, msg);\n",
       "            }\n",
       "        }\n",
       "    };\n",
       "}\n",
       "\n",
       "// from http://stackoverflow.com/questions/1114465/getting-mouse-location-in-canvas\n",
       "mpl.findpos = function(e) {\n",
       "    //this section is from http://www.quirksmode.org/js/events_properties.html\n",
       "    var targ;\n",
       "    if (!e)\n",
       "        e = window.event;\n",
       "    if (e.target)\n",
       "        targ = e.target;\n",
       "    else if (e.srcElement)\n",
       "        targ = e.srcElement;\n",
       "    if (targ.nodeType == 3) // defeat Safari bug\n",
       "        targ = targ.parentNode;\n",
       "\n",
       "    // jQuery normalizes the pageX and pageY\n",
       "    // pageX,Y are the mouse positions relative to the document\n",
       "    // offset() returns the position of the element relative to the document\n",
       "    var x = e.pageX - $(targ).offset().left;\n",
       "    var y = e.pageY - $(targ).offset().top;\n",
       "\n",
       "    return {\"x\": x, \"y\": y};\n",
       "};\n",
       "\n",
       "/*\n",
       " * return a copy of an object with only non-object keys\n",
       " * we need this to avoid circular references\n",
       " * http://stackoverflow.com/a/24161582/3208463\n",
       " */\n",
       "function simpleKeys (original) {\n",
       "  return Object.keys(original).reduce(function (obj, key) {\n",
       "    if (typeof original[key] !== 'object')\n",
       "        obj[key] = original[key]\n",
       "    return obj;\n",
       "  }, {});\n",
       "}\n",
       "\n",
       "mpl.figure.prototype.mouse_event = function(event, name) {\n",
       "    var canvas_pos = mpl.findpos(event)\n",
       "\n",
       "    if (name === 'button_press')\n",
       "    {\n",
       "        this.canvas.focus();\n",
       "        this.canvas_div.focus();\n",
       "    }\n",
       "\n",
       "    var x = canvas_pos.x * mpl.ratio;\n",
       "    var y = canvas_pos.y * mpl.ratio;\n",
       "\n",
       "    this.send_message(name, {x: x, y: y, button: event.button,\n",
       "                             step: event.step,\n",
       "                             guiEvent: simpleKeys(event)});\n",
       "\n",
       "    /* This prevents the web browser from automatically changing to\n",
       "     * the text insertion cursor when the button is pressed.  We want\n",
       "     * to control all of the cursor setting manually through the\n",
       "     * 'cursor' event from matplotlib */\n",
       "    event.preventDefault();\n",
       "    return false;\n",
       "}\n",
       "\n",
       "mpl.figure.prototype._key_event_extra = function(event, name) {\n",
       "    // Handle any extra behaviour associated with a key event\n",
       "}\n",
       "\n",
       "mpl.figure.prototype.key_event = function(event, name) {\n",
       "\n",
       "    // Prevent repeat events\n",
       "    if (name == 'key_press')\n",
       "    {\n",
       "        if (event.which === this._key)\n",
       "            return;\n",
       "        else\n",
       "            this._key = event.which;\n",
       "    }\n",
       "    if (name == 'key_release')\n",
       "        this._key = null;\n",
       "\n",
       "    var value = '';\n",
       "    if (event.ctrlKey && event.which != 17)\n",
       "        value += \"ctrl+\";\n",
       "    if (event.altKey && event.which != 18)\n",
       "        value += \"alt+\";\n",
       "    if (event.shiftKey && event.which != 16)\n",
       "        value += \"shift+\";\n",
       "\n",
       "    value += 'k';\n",
       "    value += event.which.toString();\n",
       "\n",
       "    this._key_event_extra(event, name);\n",
       "\n",
       "    this.send_message(name, {key: value,\n",
       "                             guiEvent: simpleKeys(event)});\n",
       "    return false;\n",
       "}\n",
       "\n",
       "mpl.figure.prototype.toolbar_button_onclick = function(name) {\n",
       "    if (name == 'download') {\n",
       "        this.handle_save(this, null);\n",
       "    } else {\n",
       "        this.send_message(\"toolbar_button\", {name: name});\n",
       "    }\n",
       "};\n",
       "\n",
       "mpl.figure.prototype.toolbar_button_onmouseover = function(tooltip) {\n",
       "    this.message.textContent = tooltip;\n",
       "};\n",
       "mpl.toolbar_items = [[\"Home\", \"Reset original view\", \"fa fa-home icon-home\", \"home\"], [\"Back\", \"Back to  previous view\", \"fa fa-arrow-left icon-arrow-left\", \"back\"], [\"Forward\", \"Forward to next view\", \"fa fa-arrow-right icon-arrow-right\", \"forward\"], [\"\", \"\", \"\", \"\"], [\"Pan\", \"Pan axes with left mouse, zoom with right\", \"fa fa-arrows icon-move\", \"pan\"], [\"Zoom\", \"Zoom to rectangle\", \"fa fa-square-o icon-check-empty\", \"zoom\"], [\"\", \"\", \"\", \"\"], [\"Download\", \"Download plot\", \"fa fa-floppy-o icon-save\", \"download\"]];\n",
       "\n",
       "mpl.extensions = [\"eps\", \"jpeg\", \"pdf\", \"png\", \"ps\", \"raw\", \"svg\", \"tif\"];\n",
       "\n",
       "mpl.default_extension = \"png\";var comm_websocket_adapter = function(comm) {\n",
       "    // Create a \"websocket\"-like object which calls the given IPython comm\n",
       "    // object with the appropriate methods. Currently this is a non binary\n",
       "    // socket, so there is still some room for performance tuning.\n",
       "    var ws = {};\n",
       "\n",
       "    ws.close = function() {\n",
       "        comm.close()\n",
       "    };\n",
       "    ws.send = function(m) {\n",
       "        //console.log('sending', m);\n",
       "        comm.send(m);\n",
       "    };\n",
       "    // Register the callback with on_msg.\n",
       "    comm.on_msg(function(msg) {\n",
       "        //console.log('receiving', msg['content']['data'], msg);\n",
       "        // Pass the mpl event to the overriden (by mpl) onmessage function.\n",
       "        ws.onmessage(msg['content']['data'])\n",
       "    });\n",
       "    return ws;\n",
       "}\n",
       "\n",
       "mpl.mpl_figure_comm = function(comm, msg) {\n",
       "    // This is the function which gets called when the mpl process\n",
       "    // starts-up an IPython Comm through the \"matplotlib\" channel.\n",
       "\n",
       "    var id = msg.content.data.id;\n",
       "    // Get hold of the div created by the display call when the Comm\n",
       "    // socket was opened in Python.\n",
       "    var element = $(\"#\" + id);\n",
       "    var ws_proxy = comm_websocket_adapter(comm)\n",
       "\n",
       "    function ondownload(figure, format) {\n",
       "        window.open(figure.imageObj.src);\n",
       "    }\n",
       "\n",
       "    var fig = new mpl.figure(id, ws_proxy,\n",
       "                           ondownload,\n",
       "                           element.get(0));\n",
       "\n",
       "    // Call onopen now - mpl needs it, as it is assuming we've passed it a real\n",
       "    // web socket which is closed, not our websocket->open comm proxy.\n",
       "    ws_proxy.onopen();\n",
       "\n",
       "    fig.parent_element = element.get(0);\n",
       "    fig.cell_info = mpl.find_output_cell(\"<div id='\" + id + \"'></div>\");\n",
       "    if (!fig.cell_info) {\n",
       "        console.error(\"Failed to find cell for figure\", id, fig);\n",
       "        return;\n",
       "    }\n",
       "\n",
       "    var output_index = fig.cell_info[2]\n",
       "    var cell = fig.cell_info[0];\n",
       "\n",
       "};\n",
       "\n",
       "mpl.figure.prototype.handle_close = function(fig, msg) {\n",
       "    var width = fig.canvas.width/mpl.ratio\n",
       "    fig.root.unbind('remove')\n",
       "\n",
       "    // Update the output cell to use the data from the current canvas.\n",
       "    fig.push_to_output();\n",
       "    var dataURL = fig.canvas.toDataURL();\n",
       "    // Re-enable the keyboard manager in IPython - without this line, in FF,\n",
       "    // the notebook keyboard shortcuts fail.\n",
       "    IPython.keyboard_manager.enable()\n",
       "    $(fig.parent_element).html('<img src=\"' + dataURL + '\" width=\"' + width + '\">');\n",
       "    fig.close_ws(fig, msg);\n",
       "}\n",
       "\n",
       "mpl.figure.prototype.close_ws = function(fig, msg){\n",
       "    fig.send_message('closing', msg);\n",
       "    // fig.ws.close()\n",
       "}\n",
       "\n",
       "mpl.figure.prototype.push_to_output = function(remove_interactive) {\n",
       "    // Turn the data on the canvas into data in the output cell.\n",
       "    var width = this.canvas.width/mpl.ratio\n",
       "    var dataURL = this.canvas.toDataURL();\n",
       "    this.cell_info[1]['text/html'] = '<img src=\"' + dataURL + '\" width=\"' + width + '\">';\n",
       "}\n",
       "\n",
       "mpl.figure.prototype.updated_canvas_event = function() {\n",
       "    // Tell IPython that the notebook contents must change.\n",
       "    IPython.notebook.set_dirty(true);\n",
       "    this.send_message(\"ack\", {});\n",
       "    var fig = this;\n",
       "    // Wait a second, then push the new image to the DOM so\n",
       "    // that it is saved nicely (might be nice to debounce this).\n",
       "    setTimeout(function () { fig.push_to_output() }, 1000);\n",
       "}\n",
       "\n",
       "mpl.figure.prototype._init_toolbar = function() {\n",
       "    var fig = this;\n",
       "\n",
       "    var nav_element = $('<div/>')\n",
       "    nav_element.attr('style', 'width: 100%');\n",
       "    this.root.append(nav_element);\n",
       "\n",
       "    // Define a callback function for later on.\n",
       "    function toolbar_event(event) {\n",
       "        return fig.toolbar_button_onclick(event['data']);\n",
       "    }\n",
       "    function toolbar_mouse_event(event) {\n",
       "        return fig.toolbar_button_onmouseover(event['data']);\n",
       "    }\n",
       "\n",
       "    for(var toolbar_ind in mpl.toolbar_items){\n",
       "        var name = mpl.toolbar_items[toolbar_ind][0];\n",
       "        var tooltip = mpl.toolbar_items[toolbar_ind][1];\n",
       "        var image = mpl.toolbar_items[toolbar_ind][2];\n",
       "        var method_name = mpl.toolbar_items[toolbar_ind][3];\n",
       "\n",
       "        if (!name) { continue; };\n",
       "\n",
       "        var button = $('<button class=\"btn btn-default\" href=\"#\" title=\"' + name + '\"><i class=\"fa ' + image + ' fa-lg\"></i></button>');\n",
       "        button.click(method_name, toolbar_event);\n",
       "        button.mouseover(tooltip, toolbar_mouse_event);\n",
       "        nav_element.append(button);\n",
       "    }\n",
       "\n",
       "    // Add the status bar.\n",
       "    var status_bar = $('<span class=\"mpl-message\" style=\"text-align:right; float: right;\"/>');\n",
       "    nav_element.append(status_bar);\n",
       "    this.message = status_bar[0];\n",
       "\n",
       "    // Add the close button to the window.\n",
       "    var buttongrp = $('<div class=\"btn-group inline pull-right\"></div>');\n",
       "    var button = $('<button class=\"btn btn-mini btn-primary\" href=\"#\" title=\"Stop Interaction\"><i class=\"fa fa-power-off icon-remove icon-large\"></i></button>');\n",
       "    button.click(function (evt) { fig.handle_close(fig, {}); } );\n",
       "    button.mouseover('Stop Interaction', toolbar_mouse_event);\n",
       "    buttongrp.append(button);\n",
       "    var titlebar = this.root.find($('.ui-dialog-titlebar'));\n",
       "    titlebar.prepend(buttongrp);\n",
       "}\n",
       "\n",
       "mpl.figure.prototype._root_extra_style = function(el){\n",
       "    var fig = this\n",
       "    el.on(\"remove\", function(){\n",
       "\tfig.close_ws(fig, {});\n",
       "    });\n",
       "}\n",
       "\n",
       "mpl.figure.prototype._canvas_extra_style = function(el){\n",
       "    // this is important to make the div 'focusable\n",
       "    el.attr('tabindex', 0)\n",
       "    // reach out to IPython and tell the keyboard manager to turn it's self\n",
       "    // off when our div gets focus\n",
       "\n",
       "    // location in version 3\n",
       "    if (IPython.notebook.keyboard_manager) {\n",
       "        IPython.notebook.keyboard_manager.register_events(el);\n",
       "    }\n",
       "    else {\n",
       "        // location in version 2\n",
       "        IPython.keyboard_manager.register_events(el);\n",
       "    }\n",
       "\n",
       "}\n",
       "\n",
       "mpl.figure.prototype._key_event_extra = function(event, name) {\n",
       "    var manager = IPython.notebook.keyboard_manager;\n",
       "    if (!manager)\n",
       "        manager = IPython.keyboard_manager;\n",
       "\n",
       "    // Check for shift+enter\n",
       "    if (event.shiftKey && event.which == 13) {\n",
       "        this.canvas_div.blur();\n",
       "        // select the cell after this one\n",
       "        var index = IPython.notebook.find_cell_index(this.cell_info[0]);\n",
       "        IPython.notebook.select(index + 1);\n",
       "    }\n",
       "}\n",
       "\n",
       "mpl.figure.prototype.handle_save = function(fig, msg) {\n",
       "    fig.ondownload(fig, null);\n",
       "}\n",
       "\n",
       "\n",
       "mpl.find_output_cell = function(html_output) {\n",
       "    // Return the cell and output element which can be found *uniquely* in the notebook.\n",
       "    // Note - this is a bit hacky, but it is done because the \"notebook_saving.Notebook\"\n",
       "    // IPython event is triggered only after the cells have been serialised, which for\n",
       "    // our purposes (turning an active figure into a static one), is too late.\n",
       "    var cells = IPython.notebook.get_cells();\n",
       "    var ncells = cells.length;\n",
       "    for (var i=0; i<ncells; i++) {\n",
       "        var cell = cells[i];\n",
       "        if (cell.cell_type === 'code'){\n",
       "            for (var j=0; j<cell.output_area.outputs.length; j++) {\n",
       "                var data = cell.output_area.outputs[j];\n",
       "                if (data.data) {\n",
       "                    // IPython >= 3 moved mimebundle to data attribute of output\n",
       "                    data = data.data;\n",
       "                }\n",
       "                if (data['text/html'] == html_output) {\n",
       "                    return [cell, data, j];\n",
       "                }\n",
       "            }\n",
       "        }\n",
       "    }\n",
       "}\n",
       "\n",
       "// Register the function which deals with the matplotlib target/channel.\n",
       "// The kernel may be null if the page has been refreshed.\n",
       "if (IPython.notebook.kernel != null) {\n",
       "    IPython.notebook.kernel.comm_manager.register_target('matplotlib', mpl.mpl_figure_comm);\n",
       "}\n"
      ],
      "text/plain": [
       "<IPython.core.display.Javascript object>"
      ]
     },
     "metadata": {},
     "output_type": "display_data"
    },
    {
     "data": {
      "text/html": [
       "<img src=\"data:image/png;base64,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\" width=\"640\">"
      ],
      "text/plain": [
       "<IPython.core.display.HTML object>"
      ]
     },
     "metadata": {},
     "output_type": "display_data"
    },
    {
     "data": {
      "text/plain": [
       "<matplotlib.text.Text at 0x11152d9e8>"
      ]
     },
     "execution_count": 5,
     "metadata": {},
     "output_type": "execute_result"
    }
   ],
   "source": [
    "#Warning: Do not plot if N>1000 !\n",
    "fig = plt.figure()\n",
    "ax = fig.add_subplot(111, projection='3d')\n",
    "ax.scatter(X[0:N,0],X[0:N,1],Y[0:N])\n",
    "ax.set_xlabel('X1')\n",
    "ax.set_ylabel('X2')\n",
    "ax.set_zlabel('Y')\n"
   ]
  },
  {
   "cell_type": "code",
   "execution_count": 6,
   "metadata": {},
   "outputs": [
    {
     "data": {
      "text/plain": [
       "array([ 0.31179588,  0.69634349])"
      ]
     },
     "execution_count": 6,
     "metadata": {},
     "output_type": "execute_result"
    }
   ],
   "source": [
    "#Check theta values\n",
    "theta"
   ]
  },
  {
   "cell_type": "markdown",
   "metadata": {},
   "source": [
    "# 2) Ordinary Least Squares\n",
    "\n",
    "Let us first solve the linear regression using standard approaches:\n",
    "\n",
    "* Using Python sklearn and the sklearn.linear_model function\n",
    "* Using the least mean square equation with numpy"
   ]
  },
  {
   "cell_type": "markdown",
   "metadata": {},
   "source": [
    "## 2.1) Centralised approach"
   ]
  },
  {
   "cell_type": "markdown",
   "metadata": {},
   "source": [
    "### 2.1.1) Parameter identification using sklearn\n",
    "\n",
    "Let us compute the model coefficients with the [sklearn.linear_model](http://scikit-learn.org/stable/modules/generated/sklearn.linear_model.LinearRegression.html) function"
   ]
  },
  {
   "cell_type": "code",
   "execution_count": 7,
   "metadata": {},
   "outputs": [
    {
     "name": "stdout",
     "output_type": "stream",
     "text": [
      "Regression coefficient found with sklearn: [[ 0.31179588  0.69634349]]\n",
      "Time to fit linear model with sklearn:  0.016 seconds\n"
     ]
    }
   ],
   "source": [
    "from sklearn import linear_model\n",
    "\n",
    "start = time.time()\n",
    "\n",
    "model = linear_model.LinearRegression(fit_intercept=False)\n",
    "model.fit(X,Y)\n",
    "\n",
    "end = time.time()\n",
    "\n",
    "print(\"Regression coefficient found with sklearn:\",model.coef_)\n",
    "print(\"Time to fit linear model with sklearn: \",round(end - start,4),\"seconds\")\n"
   ]
  },
  {
   "cell_type": "code",
   "execution_count": 8,
   "metadata": {
    "solution": "hidden"
   },
   "outputs": [
    {
     "data": {
      "text/plain": [
       "array([ 0.31179588,  0.69634349])"
      ]
     },
     "execution_count": 8,
     "metadata": {},
     "output_type": "execute_result"
    }
   ],
   "source": [
    "theta"
   ]
  },
  {
   "cell_type": "markdown",
   "metadata": {},
   "source": [
    "### 2.1.2) Parameter identification using numpy\n",
    "\n",
    "Let us compute the model coefficients using the OLS solution, with numpy [`dot`](https://docs.scipy.org/doc/numpy/reference/generated/numpy.dot.html), [`transpose`](https://docs.scipy.org/doc/numpy/reference/generated/numpy.transpose.html), and [`linalg.inv`](https://docs.scipy.org/doc/numpy/reference/generated/numpy.linalg.inv.html) functions.   "
   ]
  },
  {
   "cell_type": "markdown",
   "metadata": {},
   "source": [
    "**Exercise:**\n",
    "\n",
    "* Compute $X^TX$ using the numpy `dot` function, and store result in a variable XtX\n",
    "* Compute $X^TY$ using the numpy `dot` function, and store result in a variable XtY\n",
    "* Compute the inverse of $X^TX$ using the numpy `linalg.inv` function, and store result in a variable XtX_inverse\n",
    "* Compute coefficient $\\hat{\\theta}=(X^T X)^{-1} (X^T Y)$ using the numpy `dot` function and store the result in a variable theta_hat\n",
    "* Check that theta_hat is the same as the result found with `sklearn.linear_model`"
   ]
  },
  {
   "cell_type": "code",
   "execution_count": 9,
   "metadata": {},
   "outputs": [
    {
     "name": "stdout",
     "output_type": "stream",
     "text": [
      "Size of X^T X : (2, 2)\n",
      "Size of X^T Y : (2, 1)\n",
      "Size of (X^T X)^-1 : (2, 2)\n",
      "Size of \\hat{theta} : (2, 1)\n",
      "Regression coefficient found with numpy native implementation: [[ 0.31179588]\n",
      " [ 0.69634349]]\n",
      "Time to fit linear model with numpy:  0.0031 seconds\n"
     ]
    }
   ],
   "source": [
    "start = time.time()\n",
    "\n",
    "XtX=np.dot(np.transpose(X),X)\n",
    "XtY=np.dot(np.transpose(X),Y)\n",
    "\n",
    "XtX_inverse=np.linalg.inv(XtX)\n",
    "\n",
    "theta_hat=np.dot(XtX_inverse,XtY)\n",
    "\n",
    "end = time.time()\n",
    "\n",
    "print(\"Size of X^T X :\",XtX.shape)\n",
    "print(\"Size of X^T Y :\",XtY.shape)\n",
    "print(\"Size of (X^T X)^-1 :\",XtX_inverse.shape)\n",
    "print(\"Size of \\hat{theta} :\",theta_hat.shape)\n",
    "\n",
    "print(\"Regression coefficient found with numpy native implementation:\",theta_hat)\n",
    "print(\"Time to fit linear model with numpy: \",round(end - start,4),\"seconds\")\n"
   ]
  },
  {
   "cell_type": "markdown",
   "metadata": {},
   "source": [
    "## 2.2) Map/Reduce approach for OLS\n",
    "\n",
    "Summary of the approach:\n",
    "\n",
    "* $X^T X$ and $X^T Y$ are computed in a distributed way.\n",
    "* $X^T X$ and $X^T Y$ have size $n \\times n$ and $n$, with $n$ small. $(X^T X)^{-1} (X^T Y)$ can be computed locally (no need to distribute the computation of the matrix inverse).\n",
    "\n",
    "#### Distribution of the computation of $X^T X$ and $X^T Y$\n",
    "\n",
    "* Let $Z=[X|Y]$ be the $X$ matrix augmented with $Y$ as the last column.\n",
    "* Let $Z$ be partitioned into $B$ row blocks $Z_k$ of size $N_B \\times (n+1)$\n",
    "\n",
    "$$Z = \\left[\\begin{array}\n",
    "{r}\n",
    "Z_1  \\\\\n",
    "Z_2  \\\\\n",
    "...\\\\\n",
    "Z_B\n",
    "\\end{array}\\right]\n",
    "$$\n"
   ]
  },
  {
   "cell_type": "markdown",
   "metadata": {},
   "source": [
    "**The distributed implementation will consist in computing $X^TX$ and $X^TY$ in parallel using the block $Z_k$**.\n",
    "\n",
    "* **Stage 1**: Partitioning. Partition $Z$ in $B$ blocks $Z_k$, $1 \\le k \\le B$. This can be done when calling the `parallelize` function to create the Spark Resilient Distributed Dataset (RDDs). \n",
    "* **Stage 2**: Computation of partial $X^TX$ with mapping. For each row of the partition $Z_k$, return xtx$= x_k^T x_k$ (size $n \\times n$).\n",
    "* **Stage 3**: Reduce. Sum all xtx.\n",
    "* **Stage 4**: Computation of partial $X^TY$ with mapping. For each row of the partition $Z_k$, return xty$= x_k^T y_k$ (size $n \\times 1$).\n",
    "* **Stage 5**: Reduce. Sum all xty.\n",
    "* **Stage 6**: Collect. Collect the reduced XtX and XtY, and compute $\\hat{\\theta}^T = (X^T X)^{-1} (X^T Y)$.\n",
    "\n"
   ]
  },
  {
   "cell_type": "markdown",
   "metadata": {},
   "source": [
    "### Start Spark session"
   ]
  },
  {
   "cell_type": "code",
   "execution_count": 10,
   "metadata": {
    "collapsed": true
   },
   "outputs": [],
   "source": [
    "os.environ['PYSPARK_SUBMIT_ARGS'] =\"--conf spark.driver.memory=2g  pyspark-shell\"\n",
    "\n",
    "from pyspark.sql import SparkSession\n",
    "\n",
    "#Start Spark session with local master and 2 cores\n",
    "spark = SparkSession \\\n",
    "    .builder \\\n",
    "    .master(\"local[2]\") \\\n",
    "    .appName(\"LinearRegression\") \\\n",
    "    .getOrCreate()\n",
    "\n",
    "#When dealing with RDDs, we work the sparkContext object. See https://spark.apache.org/docs/latest/api/python/pyspark.html#pyspark.SparkContext\n",
    "sc=spark.sparkContext"
   ]
  },
  {
   "cell_type": "markdown",
   "metadata": {},
   "source": [
    "### Create RDD with B partitions"
   ]
  },
  {
   "cell_type": "code",
   "execution_count": 13,
   "metadata": {
    "collapsed": true
   },
   "outputs": [],
   "source": [
    "#Let us use 2 partitions\n",
    "B=2\n",
    "Z_RDD=sc.parallelize(Z,B).cache()"
   ]
  },
  {
   "cell_type": "code",
   "execution_count": 14,
   "metadata": {},
   "outputs": [
    {
     "data": {
      "text/plain": [
       "100"
      ]
     },
     "execution_count": 14,
     "metadata": {},
     "output_type": "execute_result"
    }
   ],
   "source": [
    "Z_RDD.count()"
   ]
  },
  {
   "cell_type": "markdown",
   "metadata": {},
   "source": [
    "**Exercise**\n",
    "\n",
    "* Open the Spark UI (yourIP:4040), check the DAG visualisation and event timeline\n",
    "* Change the number to B=5 partitions et reparallelize Z. What change do you expect in the event timeline?"
   ]
  },
  {
   "cell_type": "markdown",
   "metadata": {},
   "source": [
    "### 2.2.1) Approach 1: map function\n",
    "\n",
    "The standard approach for Map/Reduce consists in applying a map function to each row of an RDD using the `map` operator, and reduce the results using the `reduce` operator. Below is an example of the Map/Reduce implementation for computing XtX."
   ]
  },
  {
   "cell_type": "code",
   "execution_count": 16,
   "metadata": {
    "collapsed": true
   },
   "outputs": [],
   "source": [
    "def xtx_row(z):\n",
    "    #x is all columns except the last one (y)\n",
    "    x=z[:-1]\n",
    "    xtx=np.outer(x,x)\n",
    "    return xtx\n",
    "\n",
    "XtX=Z_RDD.map(xtx_row).reduce(lambda x,y:(x+y))\n"
   ]
  },
  {
   "cell_type": "markdown",
   "metadata": {},
   "source": [
    "**Exercise:**\n",
    "    \n",
    "* What is the shape (number of rows/columns) of the resulting RDD?\n",
    "* Check the DAG, event timeline, and number of records/partitions in the Spark UI"
   ]
  },
  {
   "cell_type": "code",
   "execution_count": 15,
   "metadata": {},
   "outputs": [
    {
     "data": {
      "text/plain": [
       "(2, 2)"
      ]
     },
     "execution_count": 15,
     "metadata": {},
     "output_type": "execute_result"
    }
   ],
   "source": [
    "XtX.shape"
   ]
  },
  {
   "cell_type": "markdown",
   "metadata": {},
   "source": [
    "**Exercise:**\n",
    "\n",
    "* Apply the same approach as xtx_row for computing XtY. Call that function xty_row\n",
    "* Compute the coefficients $\\hat{\\theta}=(X^T X)^{-1} (X^T Y)$ using the numpy `dot` and `linalg.inv` functions and store the result in a variable theta_hat\n",
    "* Check that theta_hat is the same as the result found with `sklearn.linear_model` (no map/reduce needed here) "
   ]
  },
  {
   "cell_type": "code",
   "execution_count": 17,
   "metadata": {},
   "outputs": [
    {
     "name": "stdout",
     "output_type": "stream",
     "text": [
      "Size of X^T X : (2, 2)\n",
      "Size of X^T Y : (2,)\n",
      "Size of (X^T X)^-1 : (2, 2)\n",
      "Size of \\hat{theta} : (2,)\n",
      "Regression coefficient found with Spark map function: [ 0.31179588  0.69634349]\n",
      "Time to fit linear model with Spark map function, combined computation of xtx and xty:  0.11 seconds\n"
     ]
    }
   ],
   "source": [
    "def xty_row(z):\n",
    "    x=z[:-1]\n",
    "    #y is the last column\n",
    "    y=z[-1]\n",
    "    xty=x*y\n",
    "    return xty\n",
    "\n",
    "start = time.time()\n",
    "\n",
    "XtY=Z_RDD.map(xty_row).reduce(lambda x,y:(x+y))\n",
    "\n",
    "XtX_inverse=np.linalg.inv(XtX)\n",
    "\n",
    "theta_hat=np.dot(XtX_inverse,XtY)\n",
    "\n",
    "end = time.time()\n",
    "\n",
    "print(\"Size of X^T X :\",XtX.shape)\n",
    "print(\"Size of X^T Y :\",XtY.shape)\n",
    "print(\"Size of (X^T X)^-1 :\",XtX_inverse.shape)\n",
    "print(\"Size of \\hat{theta} :\",theta_hat.shape)\n",
    "\n",
    "print(\"Regression coefficient found with Spark map function:\",theta_hat)\n",
    "print(\"Time to fit linear model with Spark map function, combined computation of xtx and xty: \",round(end - start,2),\"seconds\")\n"
   ]
  },
  {
   "cell_type": "markdown",
   "metadata": {},
   "source": [
    "### 2.2.2) Approach 2 : map function with combined computation of xtx and xty\n",
    "\n",
    "Instead of using to separate map/reduce for computing XtX and XtY, both can be computed in a single map/reduce (since x and y are in z)."
   ]
  },
  {
   "cell_type": "markdown",
   "metadata": {},
   "source": [
    "**Exercise:**\n",
    "\n",
    "* Modify the xtx_row function in a xtx_xty_row function so that xtx and xty are computed in a single map. The output should be a tuple (xtx,xty)\n",
    "* Modify the map/reduce pipeline so the xtx_xty_row is applied, and adapt the reduce part so both elements (xtx,xty) are summed"
   ]
  },
  {
   "cell_type": "code",
   "execution_count": 18,
   "metadata": {
    "collapsed": true
   },
   "outputs": [],
   "source": [
    "def xtx_xty_row(z):\n",
    "    x=np.array(z[:-1])\n",
    "    y=z[-1]\n",
    "    xtx=np.outer(x,x)\n",
    "    xty=np.dot(x,y)\n",
    "    return (xtx,xty)"
   ]
  },
  {
   "cell_type": "code",
   "execution_count": 19,
   "metadata": {},
   "outputs": [
    {
     "name": "stdout",
     "output_type": "stream",
     "text": [
      "Size of X^T X : (2, 2)\n",
      "Size of X^T Y : (2,)\n",
      "Size of (X^T X)^-1 : (2, 2)\n",
      "Size of \\hat{theta} : (2,)\n",
      "Regression coefficient found with Spark map function, combined computation of xtx and xty: [ 0.31179588  0.69634349]\n",
      "Time to fit linear model with Spark map function, combined computation of xtx and xty:  0.12 seconds\n"
     ]
    }
   ],
   "source": [
    "start = time.time()\n",
    "\n",
    "(XtX,XtY)=Z_RDD.cache().map(xtx_xty_row)\\\n",
    ".reduce(lambda xtx_xty0,xtx_xty1:(xtx_xty0[0]+xtx_xty1[0],xtx_xty0[1]+xtx_xty1[1]))\n",
    "\n",
    "XtX_inverse=np.linalg.inv(XtX)\n",
    "\n",
    "theta_hat=np.dot(XtX_inverse,XtY)\n",
    "\n",
    "end = time.time()\n",
    "\n",
    "print(\"Size of X^T X :\",XtX.shape)\n",
    "print(\"Size of X^T Y :\",XtY.shape)\n",
    "print(\"Size of (X^T X)^-1 :\",XtX_inverse.shape)\n",
    "print(\"Size of \\hat{theta} :\",theta_hat.shape)\n",
    "\n",
    "print(\"Regression coefficient found with Spark map function, combined computation of xtx and xty:\",theta_hat)\n",
    "print(\"Time to fit linear model with Spark map function, combined computation of xtx and xty: \",round(end - start,2),\"seconds\")\n"
   ]
  },
  {
   "cell_type": "markdown",
   "metadata": {
    "collapsed": true
   },
   "source": [
    "# 3) Gradient Descent\n",
    "\n"
   ]
  },
  {
   "cell_type": "markdown",
   "metadata": {},
   "source": [
    "## 3.1) Centralised approach\n",
    "\n",
    "``` \n",
    "GD(X,Y,T,η)\n",
    "N<-nrow(X)\n",
    "theta_0 <- random initialization\n",
    "for t = 1 to T do\n",
    "    sum_gradient=0\n",
    "    for i = 1 to N\n",
    "        sum_gradient=sum_gradient − ηL'(x_i,y_i)\n",
    "    end_for\n",
    "    theta_t ← theta_(t−1)+sum_gradient/N \n",
    "end_for\n",
    "return theta_t \n",
    "``` \n",
    "L' is the derivative of L. For the squared loss, we have $L'(y_i, \\hat{y}_i)=(x_i \\theta^T-y_i)x_i$.\n",
    "\n",
    "Below is a function that implements this algorithm."
   ]
  },
  {
   "cell_type": "code",
   "execution_count": 20,
   "metadata": {
    "collapsed": true
   },
   "outputs": [],
   "source": [
    "def GD(Z,T,eta,random_seed=0):\n",
    "    (N,n)=Z.shape\n",
    "    n=n-1\n",
    "\n",
    "    np.random.seed(random_seed)\n",
    "    theta_hat=np.random.rand(n)\n",
    "\n",
    "    for t in range(T):\n",
    "        sum_gradient=0\n",
    "        for i in range(N):\n",
    "            sum_gradient=sum_gradient+getGradient(Z[i,:],eta,theta_hat)\n",
    "        \n",
    "        theta_hat=theta_hat+sum_gradient/N\n",
    "    \n",
    "    return theta_hat"
   ]
  },
  {
   "cell_type": "markdown",
   "metadata": {},
   "source": [
    "**Exercise:**\n",
    "\n",
    "Implement a function getGradient, that takes as inputs z, eta and theta_hat, and returns the gradient at z using the derivative $L'(y_i, \\hat{y}_i)=(x_i \\theta^T-y_i)x_i$ "
   ]
  },
  {
   "cell_type": "code",
   "execution_count": 21,
   "metadata": {
    "collapsed": true
   },
   "outputs": [],
   "source": [
    "def getGradient(z,eta,theta_hat):\n",
    "    x=z[:-1]\n",
    "    y=z[-1]\n",
    "    \n",
    "    gradient=-eta*(np.dot(x,theta_hat)-y)*x\n",
    "    \n",
    "    return gradient"
   ]
  },
  {
   "cell_type": "markdown",
   "metadata": {},
   "source": [
    "Run with T=50, and eta=1"
   ]
  },
  {
   "cell_type": "code",
   "execution_count": 26,
   "metadata": {
    "collapsed": true
   },
   "outputs": [],
   "source": [
    "theta_hat=GD(Z,50,1)"
   ]
  },
  {
   "cell_type": "code",
   "execution_count": 27,
   "metadata": {},
   "outputs": [
    {
     "data": {
      "text/plain": [
       "array([ 0.31294729,  0.69513227])"
      ]
     },
     "execution_count": 27,
     "metadata": {},
     "output_type": "execute_result"
    }
   ],
   "source": [
    "theta_hat"
   ]
  },
  {
   "cell_type": "markdown",
   "metadata": {},
   "source": [
    "## 3.2) Map/Reduce approach\n",
    "\n",
    "Notice that getGradient can be applied row-wise to the Z array, and that all gradients can be summed using a reduce action."
   ]
  },
  {
   "cell_type": "markdown",
   "metadata": {},
   "source": [
    "**Exercise:**\n",
    "\n",
    "Write a function GD_MR equivalent to GD, that implements the gradient descent in a map/reduce way. Tip: Start from Z_RDD, map getGradient, reduce by summing the results."
   ]
  },
  {
   "cell_type": "code",
   "execution_count": 28,
   "metadata": {
    "collapsed": true
   },
   "outputs": [],
   "source": [
    "def GD_MR(Z,T,eta,random_seed=0):\n",
    "    (N,n)=Z.shape\n",
    "    n=n-1\n",
    "\n",
    "    np.random.seed(random_seed)\n",
    "    theta_hat=np.random.rand(n)\n",
    "\n",
    "    for t in range(T):\n",
    "        sum_gradient=Z_RDD.map(lambda z: getGradient(z,eta,theta_hat)).reduce(lambda gradient1,gradient2:(gradient1+gradient2))\n",
    "\n",
    "        theta_hat=theta_hat+sum_gradient/N\n",
    "    \n",
    "    return theta_hat\n"
   ]
  },
  {
   "cell_type": "code",
   "execution_count": 29,
   "metadata": {
    "collapsed": true
   },
   "outputs": [],
   "source": [
    "theta_hat=GD_MR(Z,50,1)"
   ]
  },
  {
   "cell_type": "code",
   "execution_count": 30,
   "metadata": {},
   "outputs": [
    {
     "data": {
      "text/plain": [
       "array([ 0.31294729,  0.69513227])"
      ]
     },
     "execution_count": 30,
     "metadata": {},
     "output_type": "execute_result"
    }
   ],
   "source": [
    "theta_hat"
   ]
  },
  {
   "cell_type": "markdown",
   "metadata": {},
   "source": [
    "Check in the Spark UI the resulting sequences of Spark jobs."
   ]
  },
  {
   "cell_type": "markdown",
   "metadata": {},
   "source": [
    "# 4) Linear regression with Spark ML\n",
    "\n",
    "The documentation for linear regression in Spark ML can be found at https://spark.apache.org/docs/latest/ml-classification-regression.html#linear-regression. \n",
    "\n",
    "It implements the OLS and gradient descent algorithms, which can be chosen by means of the `solver` parameter:\n",
    "* solver='normal' : Ordinary least squares\n",
    "* solver='l-bgfs': Gradient descent approach, using [the limited memory BGFS](https://en.wikipedia.org/wiki/Limited-memory_BFGS) optimisation algorihm (a more efficient version of the vanilla gradient descent we implement in section 3)\n",
    "* solver='auto': Default parameter. It lets Spark choose beteen normal and l-bgfs, depending on the number of input variables (normal if chosen if number of features<=4096). \n",
    "\n",
    "In order to use the LinearRegression interface, let us first format input data in a dataframe with `label` and `features` columns:\n"
   ]
  },
  {
   "cell_type": "code",
   "execution_count": 31,
   "metadata": {},
   "outputs": [
    {
     "name": "stdout",
     "output_type": "stream",
     "text": [
      "+------------------+--------------------+\n",
      "|             label|            features|\n",
      "+------------------+--------------------+\n",
      "|0.6691352490507825|[0.54881350392732...|\n",
      "|0.5673649951209327|[0.60276337607164...|\n",
      "|0.5818579819191105|[0.42365479933890...|\n",
      "|0.7574182130810158|[0.43758721126269...|\n",
      "|0.5674730853311307|[0.96366276050102...|\n",
      "+------------------+--------------------+\n",
      "only showing top 5 rows\n",
      "\n"
     ]
    }
   ],
   "source": [
    "from pyspark.ml.linalg import Vectors\n",
    "\n",
    "Z_RDD_tmp = map(lambda z: (float(z[-1]), Vectors.dense(z[0:-1])), Z)\n",
    "Z_DF = spark.createDataFrame(Z_RDD_tmp,schema=[\"label\", \"features\"])\n",
    "\n",
    "Z_DF.show(5)"
   ]
  },
  {
   "cell_type": "code",
   "execution_count": 32,
   "metadata": {},
   "outputs": [
    {
     "data": {
      "text/plain": [
       "100"
      ]
     },
     "execution_count": 32,
     "metadata": {},
     "output_type": "execute_result"
    }
   ],
   "source": [
    "Z_DF.count()"
   ]
  },
  {
   "cell_type": "markdown",
   "metadata": {},
   "source": [
    "We can now fit the model. "
   ]
  },
  {
   "cell_type": "markdown",
   "metadata": {},
   "source": [
    "**Exercise:**\n",
    "\n",
    "* Fit the model with the normal and l-bgfs algorithms. \n",
    "* Check the Spark UI and compare the different stages\n"
   ]
  },
  {
   "cell_type": "code",
   "execution_count": 37,
   "metadata": {},
   "outputs": [
    {
     "name": "stdout",
     "output_type": "stream",
     "text": [
      "Coefficients: [0.311795882069,0.696343489005]\n",
      "Intercept: -1.3057799286286809e-10\n",
      "numIterations: 5\n",
      "objectiveHistory: [0.4949999999999998, 0.0015133886737815209, 1.0363354415579748e-05, 5.931637812062361e-11, 3.547904925174226e-20]\n",
      "RMSE: 0.000000\n"
     ]
    }
   ],
   "source": [
    "from pyspark.ml.regression import LinearRegression\n",
    "\n",
    "lr = LinearRegression(maxIter=10,solver=\"l-bfgs\")\n",
    "#lr = LinearRegression(solver=\"normal\")\n",
    "\n",
    "# Fit the model\n",
    "lrModel = lr.fit(Z_DF)\n",
    "\n",
    "# Print the coefficients and intercept for linear regression\n",
    "print(\"Coefficients: %s\" % str(lrModel.coefficients))\n",
    "print(\"Intercept: %s\" % str(lrModel.intercept))\n",
    "\n",
    "# Summarize the model over the training set and print out some metrics\n",
    "trainingSummary = lrModel.summary\n",
    "print(\"numIterations: %d\" % trainingSummary.totalIterations)\n",
    "print(\"objectiveHistory: %s\" % str(trainingSummary.objectiveHistory))\n",
    "print(\"RMSE: %f\" % trainingSummary.rootMeanSquaredError)"
   ]
  },
  {
   "cell_type": "code",
   "execution_count": 38,
   "metadata": {},
   "outputs": [
    {
     "data": {
      "text/plain": [
       "array([ 0.31179588,  0.69634349])"
      ]
     },
     "execution_count": 38,
     "metadata": {},
     "output_type": "execute_result"
    }
   ],
   "source": [
    "theta"
   ]
  },
  {
   "cell_type": "markdown",
   "metadata": {
    "solution": "hidden"
   },
   "source": [
    "## Relevant links\n",
    "\n",
    "* For a more practical application, see https://github.com/spark-mooc/mooc-setup/blob/master/ML_lab3_linear_reg_student.ipynb where regression with Spark ML is used to predict the year of a movie.\n",
    "\n",
    "Research articles on distributed gradient descent:\n",
    "\n",
    "* Zinkevich, M., Weimer, M., Li, L., & Smola, A. J. (2010). Parallelized stochastic gradient descent. In Advances in neural information processing systems (pp. 2595-2603). http://martin.zinkevich.org/publications/nips2010.pdf\n",
    "* Chu, C. T., Kim, S. K., Lin, Y. A., Yu, Y., Bradski, G., Olukotun, K., & Ng, A. Y. (2007). Map-reduce for machine learning on multicore. In Advances in neural information processing systems (pp. 281-288). https://papers.nips.cc/paper/3150-map-reduce-for-machine-learning-on-multicore.pdf\n",
    "\n"
   ]
  },
  {
   "cell_type": "code",
   "execution_count": null,
   "metadata": {
    "collapsed": true,
    "solution": "hidden"
   },
   "outputs": [],
   "source": []
  }
 ],
 "metadata": {
  "kernelspec": {
   "display_name": "Python 3",
   "language": "python",
   "name": "python3"
  },
  "language_info": {
   "codemirror_mode": {
    "name": "ipython",
    "version": 3
   },
   "file_extension": ".py",
   "mimetype": "text/x-python",
   "name": "python",
   "nbconvert_exporter": "python",
   "pygments_lexer": "ipython3",
   "version": "3.6.3"
  }
 },
 "nbformat": 4,
 "nbformat_minor": 2
}
